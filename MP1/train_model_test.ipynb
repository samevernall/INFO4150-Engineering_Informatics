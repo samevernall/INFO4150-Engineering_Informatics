{
 "cells": [
  {
   "cell_type": "code",
   "execution_count": 87,
   "metadata": {},
   "outputs": [],
   "source": [
    "from flask import Flask, request, jsonify, render_template,url_for\n",
    "import sqlite3\n",
    "import json\n",
    "import pickle\n",
    "import pandas as pd\n",
    "import numpy as np\n",
    "from matplotlib import pyplot as plt\n",
    "import sklearn\n",
    "from sklearn.metrics import classification_report, confusion_matrix\n",
    "from sklearn.metrics import ConfusionMatrixDisplay, accuracy_score\n"
   ]
  },
  {
   "cell_type": "code",
   "execution_count": 88,
   "metadata": {},
   "outputs": [],
   "source": [
    "process_db= sqlite3.connect('process_values.db')\n",
    "cursor1 = process_db.cursor()"
   ]
  },
  {
   "cell_type": "code",
   "execution_count": 95,
   "metadata": {},
   "outputs": [
    {
     "data": {
      "text/plain": [
       "sqlite3.Connection"
      ]
     },
     "execution_count": 95,
     "metadata": {},
     "output_type": "execute_result"
    }
   ],
   "source": [
    "# build linear regression\n",
    "\n",
    "type(process_db)\n"
   ]
  },
  {
   "cell_type": "code",
   "execution_count": 96,
   "metadata": {},
   "outputs": [],
   "source": [
    "db_data = cursor1.execute(\"SELECT * FROM sensor_data\").fetchall()\n",
    "sensor_df = pd.DataFrame(db_data,columns= ['sensor1','sensor2'])"
   ]
  },
  {
   "cell_type": "code",
   "execution_count": 97,
   "metadata": {},
   "outputs": [
    {
     "data": {
      "text/html": [
       "<div>\n",
       "<style scoped>\n",
       "    .dataframe tbody tr th:only-of-type {\n",
       "        vertical-align: middle;\n",
       "    }\n",
       "\n",
       "    .dataframe tbody tr th {\n",
       "        vertical-align: top;\n",
       "    }\n",
       "\n",
       "    .dataframe thead th {\n",
       "        text-align: right;\n",
       "    }\n",
       "</style>\n",
       "<table border=\"1\" class=\"dataframe\">\n",
       "  <thead>\n",
       "    <tr style=\"text-align: right;\">\n",
       "      <th></th>\n",
       "      <th>sensor1</th>\n",
       "      <th>sensor2</th>\n",
       "    </tr>\n",
       "  </thead>\n",
       "  <tbody>\n",
       "    <tr>\n",
       "      <th>0</th>\n",
       "      <td>5.85591527310501</td>\n",
       "      <td>38.607495226349</td>\n",
       "    </tr>\n",
       "    <tr>\n",
       "      <th>1</th>\n",
       "      <td>4.55997309445233</td>\n",
       "      <td>9.067653208189501</td>\n",
       "    </tr>\n",
       "    <tr>\n",
       "      <th>2</th>\n",
       "      <td>2.046294817515498</td>\n",
       "      <td>-9.756507888205919</td>\n",
       "    </tr>\n",
       "    <tr>\n",
       "      <th>3</th>\n",
       "      <td>6.518983822839673</td>\n",
       "      <td>52.1576676454831</td>\n",
       "    </tr>\n",
       "    <tr>\n",
       "      <th>4</th>\n",
       "      <td>1.6533208155938561</td>\n",
       "      <td>-7.610798226609832</td>\n",
       "    </tr>\n",
       "    <tr>\n",
       "      <th>...</th>\n",
       "      <td>...</td>\n",
       "      <td>...</td>\n",
       "    </tr>\n",
       "    <tr>\n",
       "      <th>197</th>\n",
       "      <td>2.98425804040893</td>\n",
       "      <td>-7.082319955729961</td>\n",
       "    </tr>\n",
       "    <tr>\n",
       "      <th>198</th>\n",
       "      <td>0.6313011524076773</td>\n",
       "      <td>-6.143580839554269</td>\n",
       "    </tr>\n",
       "    <tr>\n",
       "      <th>199</th>\n",
       "      <td>6.1798896618546095</td>\n",
       "      <td>43.67250809494191</td>\n",
       "    </tr>\n",
       "    <tr>\n",
       "      <th>200</th>\n",
       "      <td>-3.33</td>\n",
       "      <td>b'\\x02\\rMA\\xd4\"H\\xc0'</td>\n",
       "    </tr>\n",
       "    <tr>\n",
       "      <th>201</th>\n",
       "      <td>5.99</td>\n",
       "      <td>b'\\x9a\\xaa\\xec\\xb0\\xa7IB@'</td>\n",
       "    </tr>\n",
       "  </tbody>\n",
       "</table>\n",
       "<p>202 rows × 2 columns</p>\n",
       "</div>"
      ],
      "text/plain": [
       "                sensor1                     sensor2\n",
       "0      5.85591527310501             38.607495226349\n",
       "1      4.55997309445233           9.067653208189501\n",
       "2     2.046294817515498          -9.756507888205919\n",
       "3     6.518983822839673            52.1576676454831\n",
       "4    1.6533208155938561          -7.610798226609832\n",
       "..                  ...                         ...\n",
       "197    2.98425804040893          -7.082319955729961\n",
       "198  0.6313011524076773          -6.143580839554269\n",
       "199  6.1798896618546095           43.67250809494191\n",
       "200               -3.33       b'\\x02\\rMA\\xd4\"H\\xc0'\n",
       "201                5.99  b'\\x9a\\xaa\\xec\\xb0\\xa7IB@'\n",
       "\n",
       "[202 rows x 2 columns]"
      ]
     },
     "execution_count": 97,
     "metadata": {},
     "output_type": "execute_result"
    }
   ],
   "source": [
    "sensor_df\n"
   ]
  },
  {
   "cell_type": "code",
   "execution_count": 98,
   "metadata": {},
   "outputs": [],
   "source": [
    "sensor1 = sensor_df['sensor1']\n",
    "sensor2 = sensor_df['sensor2']"
   ]
  },
  {
   "cell_type": "code",
   "execution_count": 99,
   "metadata": {},
   "outputs": [
    {
     "data": {
      "text/plain": [
       "0        5.85591527310501\n",
       "1        4.55997309445233\n",
       "2       2.046294817515498\n",
       "3       6.518983822839673\n",
       "4      1.6533208155938561\n",
       "              ...        \n",
       "197      2.98425804040893\n",
       "198    0.6313011524076773\n",
       "199    6.1798896618546095\n",
       "200                 -3.33\n",
       "201                  5.99\n",
       "Name: sensor1, Length: 202, dtype: object"
      ]
     },
     "execution_count": 99,
     "metadata": {},
     "output_type": "execute_result"
    }
   ],
   "source": [
    "sensor1"
   ]
  },
  {
   "cell_type": "code",
   "execution_count": 94,
   "metadata": {},
   "outputs": [],
   "source": [
    "from sklearn.preprocessing import PolynomialFeatures\n",
    "from sklearn.linear_model import LinearRegression\n",
    "\n",
    "poly2 = PolynomialFeatures(degree = 2, include_bias = False)\n",
    "poly3 = PolynomialFeatures(degree = 3, include_bias = False)\n",
    "\n",
    "poly2_sens1 = poly2.fit_transform(sensor1.values.reshape(-1,1))\n",
    "poly3_sens1 = poly3.fit_transform(sensor1.values.reshape(-1,1))\n"
   ]
  },
  {
   "cell_type": "code",
   "execution_count": 67,
   "metadata": {},
   "outputs": [],
   "source": [
    "poly2_df_og = pd.DataFrame(poly2_sens1)\n",
    "poly3_df_og = pd.DataFrame(poly3_sens1)"
   ]
  },
  {
   "cell_type": "code",
   "execution_count": 69,
   "metadata": {},
   "outputs": [
    {
     "data": {
      "text/html": [
       "<div>\n",
       "<style scoped>\n",
       "    .dataframe tbody tr th:only-of-type {\n",
       "        vertical-align: middle;\n",
       "    }\n",
       "\n",
       "    .dataframe tbody tr th {\n",
       "        vertical-align: top;\n",
       "    }\n",
       "\n",
       "    .dataframe thead th {\n",
       "        text-align: right;\n",
       "    }\n",
       "</style>\n",
       "<table border=\"1\" class=\"dataframe\">\n",
       "  <thead>\n",
       "    <tr style=\"text-align: right;\">\n",
       "      <th></th>\n",
       "      <th>0</th>\n",
       "      <th>1</th>\n",
       "    </tr>\n",
       "  </thead>\n",
       "  <tbody>\n",
       "    <tr>\n",
       "      <th>0</th>\n",
       "      <td>5.855915</td>\n",
       "      <td>34.291744</td>\n",
       "    </tr>\n",
       "    <tr>\n",
       "      <th>1</th>\n",
       "      <td>4.559973</td>\n",
       "      <td>20.793355</td>\n",
       "    </tr>\n",
       "    <tr>\n",
       "      <th>2</th>\n",
       "      <td>2.046295</td>\n",
       "      <td>4.187322</td>\n",
       "    </tr>\n",
       "    <tr>\n",
       "      <th>3</th>\n",
       "      <td>6.518984</td>\n",
       "      <td>42.497150</td>\n",
       "    </tr>\n",
       "    <tr>\n",
       "      <th>4</th>\n",
       "      <td>1.653321</td>\n",
       "      <td>2.733470</td>\n",
       "    </tr>\n",
       "    <tr>\n",
       "      <th>...</th>\n",
       "      <td>...</td>\n",
       "      <td>...</td>\n",
       "    </tr>\n",
       "    <tr>\n",
       "      <th>195</th>\n",
       "      <td>1.600921</td>\n",
       "      <td>2.562948</td>\n",
       "    </tr>\n",
       "    <tr>\n",
       "      <th>196</th>\n",
       "      <td>6.585706</td>\n",
       "      <td>43.371523</td>\n",
       "    </tr>\n",
       "    <tr>\n",
       "      <th>197</th>\n",
       "      <td>2.984258</td>\n",
       "      <td>8.905796</td>\n",
       "    </tr>\n",
       "    <tr>\n",
       "      <th>198</th>\n",
       "      <td>0.631301</td>\n",
       "      <td>0.398541</td>\n",
       "    </tr>\n",
       "    <tr>\n",
       "      <th>199</th>\n",
       "      <td>6.179890</td>\n",
       "      <td>38.191036</td>\n",
       "    </tr>\n",
       "  </tbody>\n",
       "</table>\n",
       "<p>200 rows × 2 columns</p>\n",
       "</div>"
      ],
      "text/plain": [
       "            0          1\n",
       "0    5.855915  34.291744\n",
       "1    4.559973  20.793355\n",
       "2    2.046295   4.187322\n",
       "3    6.518984  42.497150\n",
       "4    1.653321   2.733470\n",
       "..        ...        ...\n",
       "195  1.600921   2.562948\n",
       "196  6.585706  43.371523\n",
       "197  2.984258   8.905796\n",
       "198  0.631301   0.398541\n",
       "199  6.179890  38.191036\n",
       "\n",
       "[200 rows x 2 columns]"
      ]
     },
     "execution_count": 69,
     "metadata": {},
     "output_type": "execute_result"
    }
   ],
   "source": [
    "poly2_df_og"
   ]
  },
  {
   "cell_type": "code",
   "execution_count": 77,
   "metadata": {},
   "outputs": [],
   "source": [
    "linreg_poly2 = LinearRegression().fit(poly2_df_og, sensor2)\n",
    "linreg_poly3 = LinearRegression().fit(poly3_df_og, sensor2)"
   ]
  },
  {
   "cell_type": "code",
   "execution_count": 78,
   "metadata": {},
   "outputs": [],
   "source": [
    "pickle.dump(linreg_poly2, open('linreg_poly2','wb'))\n",
    "pickle.dump(linreg_poly3, open('linreg_poly3','wb'))\n",
    "\n"
   ]
  },
  {
   "cell_type": "code",
   "execution_count": 79,
   "metadata": {},
   "outputs": [],
   "source": [
    "value = '3.333'"
   ]
  },
  {
   "cell_type": "code",
   "execution_count": 80,
   "metadata": {},
   "outputs": [
    {
     "data": {
      "text/plain": [
       "pandas.core.series.Series"
      ]
     },
     "execution_count": 80,
     "metadata": {},
     "output_type": "execute_result"
    }
   ],
   "source": [
    "list1 = pd.Series(float(value))\n",
    "type(list1)"
   ]
  },
  {
   "cell_type": "code",
   "execution_count": 81,
   "metadata": {},
   "outputs": [],
   "source": [
    "thing = list1.values.reshape(-1,1)"
   ]
  },
  {
   "cell_type": "code",
   "execution_count": 82,
   "metadata": {},
   "outputs": [],
   "source": [
    "poly2_sens1 = poly2.fit_transform(thing)\n",
    "poly3_sens1 = poly3.fit_transform(thing)\n",
    "\n"
   ]
  },
  {
   "cell_type": "code",
   "execution_count": 83,
   "metadata": {},
   "outputs": [
    {
     "name": "stdout",
     "output_type": "stream",
     "text": [
      "[6.43285953] [-6.3910873]\n"
     ]
    }
   ],
   "source": [
    "poly2_df = pd.DataFrame(poly2_sens1)\n",
    "poly3_df = pd.DataFrame(poly3_sens1)\n",
    "    \n",
    "model_poly2 = pickle.load(open('linreg_poly2', 'rb'))\n",
    "model_poly3 = pickle.load(open('linreg_poly3', 'rb'))\n",
    "\n",
    "result_poly2 = model_poly2.predict(poly2_df)\n",
    "result_poly3 = model_poly3.predict(poly3_df)\n",
    "\n",
    "print(result_poly2, result_poly3)"
   ]
  },
  {
   "cell_type": "code",
   "execution_count": 101,
   "metadata": {},
   "outputs": [
    {
     "data": {
      "text/plain": [
       "numpy.float64"
      ]
     },
     "execution_count": 101,
     "metadata": {},
     "output_type": "execute_result"
    }
   ],
   "source": [
    "type(result_poly3[0])"
   ]
  },
  {
   "cell_type": "code",
   "execution_count": 84,
   "metadata": {},
   "outputs": [],
   "source": [
    "from sklearn.metrics import mean_squared_error\n",
    "from math import sqrt\n",
    "\n",
    "y_pred_poly2 = linreg_poly2.predict(poly2_df_og)\n",
    "y_pred_poly3 = linreg_poly3.predict(poly3_df_og)\n"
   ]
  },
  {
   "cell_type": "code",
   "execution_count": 86,
   "metadata": {},
   "outputs": [
    {
     "name": "stdout",
     "output_type": "stream",
     "text": [
      "20.463233328335804 5.140013122602249\n"
     ]
    }
   ],
   "source": [
    "\n",
    "mse_2 = mean_squared_error(sensor2, y_pred_poly2)\n",
    "mse_3 = mean_squared_error(sensor2, y_pred_poly3)\n",
    "\n",
    "rmse_2 = sqrt(mse_2)\n",
    "rmse_3 = sqrt(mse_3)\n",
    "\n",
    "print(rmse_2,rmse_3)"
   ]
  }
 ],
 "metadata": {
  "interpreter": {
   "hash": "0c71162b00d8fc97edbd6c003f04536b797825c2d6f60671bc8b99c55d629e9d"
  },
  "kernelspec": {
   "display_name": "Python 3.9.1 64-bit",
   "language": "python",
   "name": "python3"
  },
  "language_info": {
   "codemirror_mode": {
    "name": "ipython",
    "version": 3
   },
   "file_extension": ".py",
   "mimetype": "text/x-python",
   "name": "python",
   "nbconvert_exporter": "python",
   "pygments_lexer": "ipython3",
   "version": "3.9.1"
  },
  "orig_nbformat": 4
 },
 "nbformat": 4,
 "nbformat_minor": 2
}
