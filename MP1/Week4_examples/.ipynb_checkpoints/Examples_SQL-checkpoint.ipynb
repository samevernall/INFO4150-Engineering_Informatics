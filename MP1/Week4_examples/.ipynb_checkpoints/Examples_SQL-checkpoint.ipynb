{
 "cells": [
  {
   "cell_type": "markdown",
   "id": "1b36de22-a8ee-4116-a618-27dce54f3e03",
   "metadata": {},
   "source": [
    "### SQLite3 and SQL operations ####\n",
    "\n",
    "https://docs.python.org/3/library/sqlite3.html\n",
    "\n",
    "SQLite is a C library that provides a lightweight disk-based database that doesn’t require a separate server process and allows accessing the database using a nonstandard variant of the SQL query language. Some applications can use SQLite for internal data storage. It’s also possible to prototype an application using SQLite and then port the code to a larger database such as PostgreSQL or Oracle."
   ]
  },
  {
   "cell_type": "code",
   "execution_count": 70,
   "id": "03fa904b-4782-4bad-8488-465a316e2ce3",
   "metadata": {},
   "outputs": [],
   "source": [
    "# Import the modules\n",
    "\n",
    "import sqlite3 as sql\n",
    "import numpy as np\n",
    "import pandas as pd"
   ]
  },
  {
   "cell_type": "markdown",
   "id": "79a381bf-879a-4f3f-bfc4-36a3a0e195d8",
   "metadata": {},
   "source": [
    "#### Basic operation to connect or create a databse ####\n",
    "\n",
    "1. import sqlite3 gives our Python program access to the sqlite3 module.\n",
    "2. The sqlite3.connect() function returns a Connection object that we will use to interact with the SQLite database held in the file test.db. \n",
    "3. The test.db file is created automatically by sqlite3.connect() if test.db does not already exist on our computer.\n",
    "\n",
    "We can verify we successfully created our connection object by running:"
   ]
  },
  {
   "cell_type": "code",
   "execution_count": 71,
   "id": "67e25aa3-78ee-4793-aa93-a4262e2aefb3",
   "metadata": {},
   "outputs": [],
   "source": [
    "# Create a Database\n",
    "\n",
    "conn = sql.connect('test1.db')"
   ]
  },
  {
   "cell_type": "code",
   "execution_count": 72,
   "id": "ea8e217e-1fa1-4dc2-b2a4-cce2996c85f5",
   "metadata": {},
   "outputs": [],
   "source": [
    "# Once a Connection has been established, create a Cursor object and call its execute() method to perform SQL commands\n",
    "\n",
    "cur = conn.cursor()\n"
   ]
  },
  {
   "cell_type": "code",
   "execution_count": 73,
   "id": "f3a6c89f-10db-427f-9c78-fd142d86c4b3",
   "metadata": {},
   "outputs": [],
   "source": [
    "# Create a table in test.db\n",
    "\n",
    "cur.execute('''CREATE TABLE IF NOT EXISTS stocks\n",
    "               (date text, trans text, symbol text, qty real, price real)''')\n",
    "\n",
    "# Insert a row of data\n",
    "cur.execute(\"INSERT INTO stocks VALUES ('2006-01-05','BUY','RHAT',100,35.14)\")\n",
    "\n",
    "\n",
    "# Save (commit) the changes\n",
    "conn.commit()\n",
    "cur.close()\n",
    "\n",
    "# We can also close the connection if we are done with it.\n",
    "# Just be sure any changes have been committed or they will be lost.\n",
    "conn.close()"
   ]
  },
  {
   "cell_type": "code",
   "execution_count": 74,
   "id": "55e5b1a8-26ee-4106-ac37-fd921e2812fb",
   "metadata": {},
   "outputs": [
    {
     "name": "stdout",
     "output_type": "stream",
     "text": [
      "('2006-01-05', 'BUY', 'RHAT', 100.0, 35.14)\n",
      "('2006-01-05', 'BUY', 'RHAT', 100.0, 35.14)\n",
      "('2006-01-05', 'BUY', 'RHAT', 100.0, 35.14)\n",
      "('2006-02-01', 'Sell', 'GOOG', 1000.0, 700.0)\n",
      "('2006-02-01', 'Sell', 'GOOG', 1000.0, 700.0)\n",
      "('2006-02-01', 'Sell', 'GOOG', 1000.0, 700.0)\n",
      "('2006-02-01', 'Sell', 'GOOG', 1000.0, 700.0)\n"
     ]
    }
   ],
   "source": [
    "# Connect with test.db again since we closed it\n",
    "# Read all the data that is in the table stocks\n",
    "\n",
    "conn = sql.connect('test1.db')\n",
    "cur =  conn.cursor()\n",
    "for row in cur.execute('SELECT * FROM stocks ORDER BY price'):\n",
    "        print(row)\n",
    "cur.close()\n",
    "conn.close()"
   ]
  },
  {
   "cell_type": "code",
   "execution_count": 75,
   "id": "03cbf503-a741-41cf-ade8-8d904c844d54",
   "metadata": {},
   "outputs": [],
   "source": [
    "con = sql.connect('Soccer_EPL.db')\n",
    "curs = con.cursor()"
   ]
  },
  {
   "cell_type": "code",
   "execution_count": 76,
   "id": "57a2f8c4-44b3-49f9-a514-ee1d60438fd3",
   "metadata": {},
   "outputs": [],
   "source": [
    "sql_query = \"SELECT name FROM sqlite_master  WHERE type='table'\""
   ]
  },
  {
   "cell_type": "code",
   "execution_count": 77,
   "id": "2b7a84f6-7482-44d1-9f5d-2f85b5f8118d",
   "metadata": {},
   "outputs": [
    {
     "name": "stdout",
     "output_type": "stream",
     "text": [
      "[('TopScorers',), ('TopAssists',)]\n"
     ]
    }
   ],
   "source": [
    "curs.execute(sql_query)\n",
    "print(curs.fetchall())"
   ]
  },
  {
   "cell_type": "code",
   "execution_count": 78,
   "id": "f7f401f5-fc95-45ab-99fd-bd1dbdfd0b66",
   "metadata": {},
   "outputs": [
    {
     "name": "stdout",
     "output_type": "stream",
     "text": [
      "(None, 'Allan Saint-Maximin', 'Newcastle United', 23, 5)\n"
     ]
    }
   ],
   "source": [
    "# for row in cur.execute('SELECT * FROM TopScorers ORDER BY Name'):\n",
    "#         print(row)\n",
    "print(curs.execute('SELECT * FROM TopScorers ORDER BY Name').fetchone())"
   ]
  },
  {
   "cell_type": "code",
   "execution_count": 79,
   "id": "8e44f356-bb2d-4702-9fb0-3441e08a7cf5",
   "metadata": {},
   "outputs": [],
   "source": [
    "# You can read a table into a pandas dataframe\n",
    "\n",
    "df = pd.read_sql_query(\"SELECT * FROM Topscorers\",con)"
   ]
  },
  {
   "cell_type": "code",
   "execution_count": 80,
   "id": "91891554-b59d-458e-8471-69e3c1fab2de",
   "metadata": {},
   "outputs": [
    {
     "data": {
      "text/html": [
       "<div>\n",
       "<style scoped>\n",
       "    .dataframe tbody tr th:only-of-type {\n",
       "        vertical-align: middle;\n",
       "    }\n",
       "\n",
       "    .dataframe tbody tr th {\n",
       "        vertical-align: top;\n",
       "    }\n",
       "\n",
       "    .dataframe thead th {\n",
       "        text-align: right;\n",
       "    }\n",
       "</style>\n",
       "<table border=\"1\" class=\"dataframe\">\n",
       "  <thead>\n",
       "    <tr style=\"text-align: right;\">\n",
       "      <th></th>\n",
       "      <th>RK</th>\n",
       "      <th>Name</th>\n",
       "      <th>Team</th>\n",
       "      <th>P</th>\n",
       "      <th>G</th>\n",
       "    </tr>\n",
       "  </thead>\n",
       "  <tbody>\n",
       "    <tr>\n",
       "      <th>0</th>\n",
       "      <td>1.0</td>\n",
       "      <td>Mohamed Salah</td>\n",
       "      <td>Liverpool</td>\n",
       "      <td>23</td>\n",
       "      <td>17</td>\n",
       "    </tr>\n",
       "    <tr>\n",
       "      <th>1</th>\n",
       "      <td>2.0</td>\n",
       "      <td>Diogo Jota</td>\n",
       "      <td>Liverpool</td>\n",
       "      <td>23</td>\n",
       "      <td>12</td>\n",
       "    </tr>\n",
       "    <tr>\n",
       "      <th>2</th>\n",
       "      <td>3.0</td>\n",
       "      <td>Raheem Sterling</td>\n",
       "      <td>Manchester City</td>\n",
       "      <td>22</td>\n",
       "      <td>10</td>\n",
       "    </tr>\n",
       "    <tr>\n",
       "      <th>3</th>\n",
       "      <td>4.0</td>\n",
       "      <td>Bruno Fernandes</td>\n",
       "      <td>Manchester United</td>\n",
       "      <td>25</td>\n",
       "      <td>9</td>\n",
       "    </tr>\n",
       "    <tr>\n",
       "      <th>4</th>\n",
       "      <td>NaN</td>\n",
       "      <td>Sadio Mané</td>\n",
       "      <td>Liverpool</td>\n",
       "      <td>22</td>\n",
       "      <td>9</td>\n",
       "    </tr>\n",
       "  </tbody>\n",
       "</table>\n",
       "</div>"
      ],
      "text/plain": [
       "    RK             Name               Team   P   G\n",
       "0  1.0    Mohamed Salah          Liverpool  23  17\n",
       "1  2.0       Diogo Jota          Liverpool  23  12\n",
       "2  3.0  Raheem Sterling    Manchester City  22  10\n",
       "3  4.0  Bruno Fernandes  Manchester United  25   9\n",
       "4  NaN       Sadio Mané          Liverpool  22   9"
      ]
     },
     "execution_count": 80,
     "metadata": {},
     "output_type": "execute_result"
    }
   ],
   "source": [
    "df.head()"
   ]
  },
  {
   "cell_type": "code",
   "execution_count": 81,
   "id": "286eb9a8-4d0e-41e6-b624-188bd81341e4",
   "metadata": {},
   "outputs": [
    {
     "name": "stdout",
     "output_type": "stream",
     "text": [
      "('2006-01-05', 'BUY', 'RHAT', 100.0, 35.14)\n",
      "('2006-01-05', 'BUY', 'RHAT', 100.0, 35.14)\n",
      "('2006-01-05', 'BUY', 'RHAT', 100.0, 35.14)\n",
      "('2006-02-01', 'Sell', 'GOOG', 1000.0, 700.0)\n",
      "('2006-02-01', 'Sell', 'GOOG', 1000.0, 700.0)\n",
      "('2006-02-01', 'Sell', 'GOOG', 1000.0, 700.0)\n",
      "('2006-02-01', 'Sell', 'GOOG', 1000.0, 700.0)\n",
      "('2006-02-01', 'Sell', 'GOOG', 1000.0, 700.0)\n"
     ]
    }
   ],
   "source": [
    "# Writing to the test database\n",
    "# Using sql commands - Method1\n",
    "# Give some values to the variables\n",
    "\n",
    "date = '2006-02-01'\n",
    "trans = 'Sell'\n",
    "symbol = 'GOOG'\n",
    "qty = 1000\n",
    "price = 700\n",
    "\n",
    "with sql.connect(\"test1.db\") as con1:\n",
    "    c = con1.cursor()\n",
    "    sql = (\"INSERT INTO stocks (date, trans, symbol, qty , price)\" \"VALUES (?, ?, ?, ?, ?)\")\n",
    "    val = (date, trans, symbol, qty , price)\n",
    "    c.execute(sql, val)\n",
    "    con1.commit()\n",
    "    for row in c.execute('SELECT * FROM stocks ORDER BY price'):\n",
    "            print(row)\n",
    "    c.close\n",
    "    con1.close\n"
   ]
  },
  {
   "cell_type": "code",
   "execution_count": 82,
   "id": "168b3bf9-9ce5-43fa-b778-aad88966ff13",
   "metadata": {},
   "outputs": [
    {
     "name": "stdout",
     "output_type": "stream",
     "text": [
      "('2006-01-05', 'BUY', 'RHAT', 100.0, 35.14)\n",
      "('2006-01-05', 'BUY', 'RHAT', 100.0, 35.14)\n",
      "('2006-01-05', 'BUY', 'RHAT', 100.0, 35.14)\n",
      "('2006-02-01', 'Sell', 'GOOG', 1000.0, 700.0)\n",
      "('2006-02-01', 'Sell', 'GOOG', 1000.0, 700.0)\n",
      "('2006-02-01', 'Sell', 'GOOG', 1000.0, 700.0)\n",
      "('2006-02-01', 'Sell', 'GOOG', 1000.0, 700.0)\n",
      "('2006-02-01', 'Sell', 'GOOG', 1000.0, 700.0)\n",
      "('2006-02-01', 'Sell', 'GOOG', 1000.0, 700.0)\n"
     ]
    }
   ],
   "source": [
    "# Using pandas commands - Method 2\n",
    "\n",
    "import sqlite3 as sql\n",
    "\n",
    "datadb = pd.DataFrame([[date, trans, symbol, qty , price]],columns=['date', 'trans', 'symbol', 'qty' , 'price'])\n",
    "\n",
    "connn = sql.connect(\"test1.db\")    \n",
    "c = connn.cursor()\n",
    "datadb.to_sql('stocks',connn,if_exists='append',index=False)\n",
    "connn.commit()\n",
    "for row in c.execute('SELECT * FROM stocks ORDER BY price'):\n",
    "    print(row)\n",
    "c.close()\n",
    "connn.close()"
   ]
  },
  {
   "cell_type": "code",
   "execution_count": null,
   "id": "84196006-577f-4a0e-9102-724e30b8ed41",
   "metadata": {},
   "outputs": [],
   "source": []
  }
 ],
 "metadata": {
  "kernelspec": {
   "display_name": "Python 3",
   "language": "python",
   "name": "python3"
  },
  "language_info": {
   "codemirror_mode": {
    "name": "ipython",
    "version": 3
   },
   "file_extension": ".py",
   "mimetype": "text/x-python",
   "name": "python",
   "nbconvert_exporter": "python",
   "pygments_lexer": "ipython3",
   "version": "3.8.8"
  }
 },
 "nbformat": 4,
 "nbformat_minor": 5
}
