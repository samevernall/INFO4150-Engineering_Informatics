{
 "cells": [
  {
   "cell_type": "markdown",
   "id": "ec8257b5-5f66-40bc-a236-b6fc3b3bc651",
   "metadata": {},
   "source": [
    "### HW2 Solution ###"
   ]
  },
  {
   "cell_type": "code",
   "execution_count": 288,
   "id": "c8031b21-fd87-4780-a4a3-2e45e71ff59d",
   "metadata": {},
   "outputs": [],
   "source": [
    "# Import required modules\n",
    "\n",
    "import pandas as pd\n",
    "import numpy as np\n",
    "from matplotlib import pyplot as plt\n",
    "import sklearn\n",
    "\n",
    "# warning library\n",
    "import warnings\n",
    "warnings.simplefilter(\"ignore\")"
   ]
  },
  {
   "cell_type": "code",
   "execution_count": 289,
   "id": "1194a304-38cc-4506-a30e-227f7d0b95f4",
   "metadata": {},
   "outputs": [
    {
     "data": {
      "text/html": [
       "<div>\n",
       "<style scoped>\n",
       "    .dataframe tbody tr th:only-of-type {\n",
       "        vertical-align: middle;\n",
       "    }\n",
       "\n",
       "    .dataframe tbody tr th {\n",
       "        vertical-align: top;\n",
       "    }\n",
       "\n",
       "    .dataframe thead th {\n",
       "        text-align: right;\n",
       "    }\n",
       "</style>\n",
       "<table border=\"1\" class=\"dataframe\">\n",
       "  <thead>\n",
       "    <tr style=\"text-align: right;\">\n",
       "      <th></th>\n",
       "      <th>x1</th>\n",
       "      <th>x2</th>\n",
       "    </tr>\n",
       "  </thead>\n",
       "  <tbody>\n",
       "    <tr>\n",
       "      <th>0</th>\n",
       "      <td>-0.426805</td>\n",
       "      <td>-0.538380</td>\n",
       "    </tr>\n",
       "    <tr>\n",
       "      <th>1</th>\n",
       "      <td>-0.965742</td>\n",
       "      <td>-0.331686</td>\n",
       "    </tr>\n",
       "    <tr>\n",
       "      <th>2</th>\n",
       "      <td>0.273106</td>\n",
       "      <td>0.188718</td>\n",
       "    </tr>\n",
       "    <tr>\n",
       "      <th>3</th>\n",
       "      <td>-1.646928</td>\n",
       "      <td>-1.449253</td>\n",
       "    </tr>\n",
       "    <tr>\n",
       "      <th>4</th>\n",
       "      <td>0.304448</td>\n",
       "      <td>0.598405</td>\n",
       "    </tr>\n",
       "  </tbody>\n",
       "</table>\n",
       "</div>"
      ],
      "text/plain": [
       "         x1        x2\n",
       "0 -0.426805 -0.538380\n",
       "1 -0.965742 -0.331686\n",
       "2  0.273106  0.188718\n",
       "3 -1.646928 -1.449253\n",
       "4  0.304448  0.598405"
      ]
     },
     "execution_count": 289,
     "metadata": {},
     "output_type": "execute_result"
    }
   ],
   "source": [
    "# Read in the train and test datasets into a Pandas DataFrame\n",
    "\n",
    "train = pd.read_csv('train.csv')\n",
    "\n",
    "test = pd.read_csv('test.csv')\n",
    "train.head()"
   ]
  },
  {
   "cell_type": "code",
   "execution_count": 290,
   "id": "f2d8a602",
   "metadata": {
    "scrolled": false
   },
   "outputs": [
    {
     "data": {
      "text/html": [
       "<div>\n",
       "<style scoped>\n",
       "    .dataframe tbody tr th:only-of-type {\n",
       "        vertical-align: middle;\n",
       "    }\n",
       "\n",
       "    .dataframe tbody tr th {\n",
       "        vertical-align: top;\n",
       "    }\n",
       "\n",
       "    .dataframe thead th {\n",
       "        text-align: right;\n",
       "    }\n",
       "</style>\n",
       "<table border=\"1\" class=\"dataframe\">\n",
       "  <thead>\n",
       "    <tr style=\"text-align: right;\">\n",
       "      <th></th>\n",
       "      <th>x1</th>\n",
       "      <th>x2</th>\n",
       "    </tr>\n",
       "  </thead>\n",
       "  <tbody>\n",
       "    <tr>\n",
       "      <th>0</th>\n",
       "      <td>0</td>\n",
       "      <td>-2</td>\n",
       "    </tr>\n",
       "    <tr>\n",
       "      <th>1</th>\n",
       "      <td>-2</td>\n",
       "      <td>1</td>\n",
       "    </tr>\n",
       "  </tbody>\n",
       "</table>\n",
       "</div>"
      ],
      "text/plain": [
       "   x1  x2\n",
       "0   0  -2\n",
       "1  -2   1"
      ]
     },
     "execution_count": 290,
     "metadata": {},
     "output_type": "execute_result"
    }
   ],
   "source": [
    "test.head()"
   ]
  },
  {
   "cell_type": "code",
   "execution_count": 291,
   "id": "1a834f3a-1f20-43c9-9250-525733495d10",
   "metadata": {},
   "outputs": [
    {
     "data": {
      "text/plain": [
       "array([[<AxesSubplot:title={'center':'x1'}>,\n",
       "        <AxesSubplot:title={'center':'x2'}>]], dtype=object)"
      ]
     },
     "execution_count": 291,
     "metadata": {},
     "output_type": "execute_result"
    },
    {
     "data": {
      "image/png": "[encoded data removed]",
      "text/plain": [
       "<Figure size 432x288 with 2 Axes>"
      ]
     },
     "metadata": {
      "needs_background": "light"
     },
     "output_type": "display_data"
    }
   ],
   "source": [
    "# Plot a simple Histogram to check if data looks somewhat gaussian\n",
    "\n",
    "train.hist()"
   ]
  },
  {
   "cell_type": "markdown",
   "id": "770e11ba-a756-4ce5-8f27-7b74b30aeabb",
   "metadata": {},
   "source": [
    "#### <u>Case 1: Where the 2 features are independent</u> ####\n",
    "In this case we can calculate the individual pdf's and then multiply them to get total pdf."
   ]
  },
  {
   "cell_type": "code",
   "execution_count": 292,
   "id": "6e425dc9-c617-4d8a-a266-195fc56b7592",
   "metadata": {},
   "outputs": [],
   "source": [
    "# Create a copy of X and X_test\n",
    "\n",
    "train_copy = train\n",
    "test_copy = test\n"
   ]
  },
  {
   "cell_type": "code",
   "execution_count": 293,
   "id": "8eb55d92",
   "metadata": {},
   "outputs": [
    {
     "data": {
      "text/html": [
       "<div>\n",
       "<style scoped>\n",
       "    .dataframe tbody tr th:only-of-type {\n",
       "        vertical-align: middle;\n",
       "    }\n",
       "\n",
       "    .dataframe tbody tr th {\n",
       "        vertical-align: top;\n",
       "    }\n",
       "\n",
       "    .dataframe thead th {\n",
       "        text-align: right;\n",
       "    }\n",
       "</style>\n",
       "<table border=\"1\" class=\"dataframe\">\n",
       "  <thead>\n",
       "    <tr style=\"text-align: right;\">\n",
       "      <th></th>\n",
       "      <th>x1</th>\n",
       "      <th>x2</th>\n",
       "    </tr>\n",
       "  </thead>\n",
       "  <tbody>\n",
       "    <tr>\n",
       "      <th>0</th>\n",
       "      <td>0</td>\n",
       "      <td>-2</td>\n",
       "    </tr>\n",
       "    <tr>\n",
       "      <th>1</th>\n",
       "      <td>-2</td>\n",
       "      <td>1</td>\n",
       "    </tr>\n",
       "  </tbody>\n",
       "</table>\n",
       "</div>"
      ],
      "text/plain": [
       "   x1  x2\n",
       "0   0  -2\n",
       "1  -2   1"
      ]
     },
     "execution_count": 293,
     "metadata": {},
     "output_type": "execute_result"
    }
   ],
   "source": [
    "test.head()\n"
   ]
  },
  {
   "cell_type": "code",
   "execution_count": 294,
   "id": "6e631ff7-8718-47a9-aab5-2a061dd48b62",
   "metadata": {
    "scrolled": true
   },
   "outputs": [
    {
     "data": {
      "text/plain": [
       "<matplotlib.collections.PathCollection at 0x1b3618697c0>"
      ]
     },
     "execution_count": 294,
     "metadata": {},
     "output_type": "execute_result"
    },
    {
     "data": {
      "image/png": "[encoded data removed]",
      "text/plain": [
       "<Figure size 432x288 with 1 Axes>"
      ]
     },
     "metadata": {
      "needs_background": "light"
     },
     "output_type": "display_data"
    }
   ],
   "source": [
    "# Plot and visualize the data\n",
    "\n",
    "plt.scatter(train_copy.x1,train_copy.x2)"
   ]
  },
  {
   "cell_type": "markdown",
   "id": "4a334c94",
   "metadata": {},
   "source": [
    "Above, there seems to be a linear relationship between the two features."
   ]
  },
  {
   "cell_type": "code",
   "execution_count": 295,
   "id": "3b0b389d-ce1c-4a55-bfb3-94729525d5ca",
   "metadata": {},
   "outputs": [],
   "source": [
    "# Write a function to calulcate indiviudal feature pdf's and return a total pdf\n",
    "\n",
    "# function for calculating probability density function\n",
    "# input will be mean and std of each feature column\n",
    "\n",
    "def pdf(x,mean,std):\n",
    "    pd = 1/(std * np.sqrt(2 * np.pi)) * np.exp( - (x - mean)**2 / (2 * std**2))\n",
    "    pdtot = pd['x1']*pd['x2']\n",
    "    return pdtot\n"
   ]
  },
  {
   "cell_type": "code",
   "execution_count": 296,
   "id": "2c01c527-4e48-4957-86d0-7febab70990b",
   "metadata": {},
   "outputs": [
    {
     "name": "stdout",
     "output_type": "stream",
     "text": [
      "x1    0.142955\n",
      "x2    0.123187\n",
      "dtype: float64\n",
      "\n",
      "x1    0.817407\n",
      "x2    0.871748\n",
      "dtype: float64\n"
     ]
    }
   ],
   "source": [
    "# Calculate the parameters required to estimate the probability density factors - mean and std\n",
    "\n",
    "# First calculate mean and std for each feature list\n",
    "\n",
    "train_mean = train_copy.mean()\n",
    "print(train_mean)\n",
    "train_std = train_copy.std()\n",
    "print('')\n",
    "print(train_std)\n"
   ]
  },
  {
   "cell_type": "code",
   "execution_count": 297,
   "id": "eabd2136-2076-4738-b37e-2f9f2e9607b4",
   "metadata": {},
   "outputs": [
    {
     "data": {
      "text/plain": [
       "pandas.core.series.Series"
      ]
     },
     "execution_count": 297,
     "metadata": {},
     "output_type": "execute_result"
    }
   ],
   "source": [
    "# Call the function, calculate pdf's and add it to a column in the dataframe you are working with \n",
    "\n",
    "pdf_total = pdf(train_copy,train_mean,train_std)\n",
    "type(pdf_total)"
   ]
  },
  {
   "cell_type": "code",
   "execution_count": 298,
   "id": "6841aff5",
   "metadata": {},
   "outputs": [
    {
     "data": {
      "text/html": [
       "<div>\n",
       "<style scoped>\n",
       "    .dataframe tbody tr th:only-of-type {\n",
       "        vertical-align: middle;\n",
       "    }\n",
       "\n",
       "    .dataframe tbody tr th {\n",
       "        vertical-align: top;\n",
       "    }\n",
       "\n",
       "    .dataframe thead th {\n",
       "        text-align: right;\n",
       "    }\n",
       "</style>\n",
       "<table border=\"1\" class=\"dataframe\">\n",
       "  <thead>\n",
       "    <tr style=\"text-align: right;\">\n",
       "      <th></th>\n",
       "      <th>x1</th>\n",
       "      <th>x2</th>\n",
       "      <th>pdf_total</th>\n",
       "    </tr>\n",
       "  </thead>\n",
       "  <tbody>\n",
       "    <tr>\n",
       "      <th>0</th>\n",
       "      <td>-0.426805</td>\n",
       "      <td>-0.538380</td>\n",
       "      <td>0.131349</td>\n",
       "    </tr>\n",
       "    <tr>\n",
       "      <th>1</th>\n",
       "      <td>-0.965742</td>\n",
       "      <td>-0.331686</td>\n",
       "      <td>0.077693</td>\n",
       "    </tr>\n",
       "    <tr>\n",
       "      <th>2</th>\n",
       "      <td>0.273106</td>\n",
       "      <td>0.188718</td>\n",
       "      <td>0.219917</td>\n",
       "    </tr>\n",
       "    <tr>\n",
       "      <th>3</th>\n",
       "      <td>-1.646928</td>\n",
       "      <td>-1.449253</td>\n",
       "      <td>0.003993</td>\n",
       "    </tr>\n",
       "    <tr>\n",
       "      <th>4</th>\n",
       "      <td>0.304448</td>\n",
       "      <td>0.598405</td>\n",
       "      <td>0.188793</td>\n",
       "    </tr>\n",
       "  </tbody>\n",
       "</table>\n",
       "</div>"
      ],
      "text/plain": [
       "         x1        x2  pdf_total\n",
       "0 -0.426805 -0.538380   0.131349\n",
       "1 -0.965742 -0.331686   0.077693\n",
       "2  0.273106  0.188718   0.219917\n",
       "3 -1.646928 -1.449253   0.003993\n",
       "4  0.304448  0.598405   0.188793"
      ]
     },
     "execution_count": 298,
     "metadata": {},
     "output_type": "execute_result"
    }
   ],
   "source": [
    "# adding series to dataframe\n",
    "\n",
    "train_copy['pdf_total'] = pdf_total\n",
    "train_copy.head()"
   ]
  },
  {
   "cell_type": "code",
   "execution_count": 299,
   "id": "20612668-8a30-47d0-bcba-92e69c5f970f",
   "metadata": {},
   "outputs": [
    {
     "name": "stdout",
     "output_type": "stream",
     "text": [
      "0.22240563317885917 6.242751926437464e-05\n"
     ]
    }
   ],
   "source": [
    "# Pick an 'eps' value which does not detect any anomalies in the train set\n",
    "\n",
    "max_pdf = train_copy['pdf_total'].max()\n",
    "min_pdf = train_copy['pdf_total'].min()\n",
    "print(max_pdf,min_pdf)\n",
    "\n",
    "# assume pdf < eps means anomaly // \n",
    "\n",
    "# to prevent anomaly, eps must be slightly smaller than smalles pdf_value\n",
    "\n",
    "eps = 6.24e-05\n",
    "# if none of the pdf values are anomalies"
   ]
  },
  {
   "cell_type": "code",
   "execution_count": 300,
   "id": "9e69a2ac-602c-4b7a-a42e-61f1d3788be1",
   "metadata": {},
   "outputs": [
    {
     "name": "stdout",
     "output_type": "stream",
     "text": [
      "x1   -1.0\n",
      "x2   -0.5\n",
      "dtype: float64\n",
      "\n",
      "x1    1.414214\n",
      "x2    2.121320\n",
      "dtype: float64\n"
     ]
    }
   ],
   "source": [
    "# Get the total pdf value for the test set and it to the test dataframe\n",
    "\n",
    "test_mean = test_copy.mean()\n",
    "print(test_mean)\n",
    "test_std = test_copy.std()\n",
    "print('')\n",
    "print(test_std)\n",
    "\n"
   ]
  },
  {
   "cell_type": "code",
   "execution_count": 301,
   "id": "140915c6",
   "metadata": {},
   "outputs": [
    {
     "data": {
      "text/html": [
       "<div>\n",
       "<style scoped>\n",
       "    .dataframe tbody tr th:only-of-type {\n",
       "        vertical-align: middle;\n",
       "    }\n",
       "\n",
       "    .dataframe tbody tr th {\n",
       "        vertical-align: top;\n",
       "    }\n",
       "\n",
       "    .dataframe thead th {\n",
       "        text-align: right;\n",
       "    }\n",
       "</style>\n",
       "<table border=\"1\" class=\"dataframe\">\n",
       "  <thead>\n",
       "    <tr style=\"text-align: right;\">\n",
       "      <th></th>\n",
       "      <th>x1</th>\n",
       "      <th>x2</th>\n",
       "      <th>pdf_test</th>\n",
       "    </tr>\n",
       "  </thead>\n",
       "  <tbody>\n",
       "    <tr>\n",
       "      <th>0</th>\n",
       "      <td>0</td>\n",
       "      <td>-2</td>\n",
       "      <td>0.032177</td>\n",
       "    </tr>\n",
       "    <tr>\n",
       "      <th>1</th>\n",
       "      <td>-2</td>\n",
       "      <td>1</td>\n",
       "      <td>0.032177</td>\n",
       "    </tr>\n",
       "  </tbody>\n",
       "</table>\n",
       "</div>"
      ],
      "text/plain": [
       "   x1  x2  pdf_test\n",
       "0   0  -2  0.032177\n",
       "1  -2   1  0.032177"
      ]
     },
     "execution_count": 301,
     "metadata": {},
     "output_type": "execute_result"
    }
   ],
   "source": [
    "pdf_test = pdf(test_copy,test_mean,test_std)\n",
    "\n",
    "test_copy['pdf_test'] = pdf_test\n",
    "test_copy.head()"
   ]
  },
  {
   "cell_type": "code",
   "execution_count": 302,
   "id": "dbcc4bdb-953e-415f-9aa4-267e478f8353",
   "metadata": {},
   "outputs": [
    {
     "name": "stdout",
     "output_type": "stream",
     "text": [
      "0.032177450876684645,is an anomaly\n",
      "0.032177450876684645,is an anomaly\n",
      "The anomalous points\n",
      "          x1        x2  pdf_total\n",
      "3  -1.646928 -1.449253   0.003993\n",
      "7   1.732585  1.642965   0.007375\n",
      "10 -1.303140 -1.548977   0.007420\n",
      "22  1.542242  1.356557   0.018966\n",
      "37  2.228768  2.859645   0.000062\n",
      "41 -1.244211 -1.625102   0.007084\n"
     ]
    }
   ],
   "source": [
    "# Detect the anomalies in the test set with the same eps\n",
    "# Change it if requred till the 2 anomalies are detected and the misclassification in the train set is as minimum as possible\n",
    "\n",
    "# eps from above was 6.24e-05\n",
    "# in order to detect anomaly, value must be at least 0.0322\n",
    "eps = 0.0322\n",
    "\n",
    "for i in test_copy['pdf_test']:\n",
    "    if i<eps:\n",
    "        print(f\"{i},is an anomaly\")\n",
    "\n",
    "\n",
    "df_bv_anomalies = train_copy[train_copy['pdf_total']< eps]\n",
    "print(f\"The anomalous points\\n{df_bv_anomalies}\")"
   ]
  },
  {
   "cell_type": "code",
   "execution_count": 303,
   "id": "3ce3d013",
   "metadata": {},
   "outputs": [
    {
     "name": "stdout",
     "output_type": "stream",
     "text": [
      "[-6.  -5.5 -5.  -4.5 -4.  -3.5 -3.  -2.5 -2.  -1.5 -1.  -0.5  0.   0.5\n",
      "  1.   1.5  2.   2.5  3.   3.5  4.   4.5  5.   5.5]\n"
     ]
    },
    {
     "data": {
      "image/png": "[encoded data removed]",
      "text/plain": [
       "<Figure size 432x288 with 1 Axes>"
      ]
     },
     "metadata": {
      "needs_background": "light"
     },
     "output_type": "display_data"
    }
   ],
   "source": [
    "# Prepare data for visualizing on a contour plot\n",
    "# Create a meshgrid\n",
    "\n",
    "x = np.arange(-6,6,0.5) \n",
    "y = np.arange(-6,6,0.5)\n",
    "print(x)\n",
    "\n",
    "Xl, Yl = np.meshgrid(x, y)\n",
    "Xl.shape,Yl.shape\n",
    "\n",
    "plt.plot(Xl,Yl, marker='.', color='b', linestyle='none')\n",
    "plt.show()"
   ]
  },
  {
   "cell_type": "markdown",
   "id": "65a31d0c-057f-44fc-84b5-57282d99fcbc",
   "metadata": {
    "tags": []
   },
   "source": [
    "#### Preparing the data for the Contour plots ####\n",
    "\n",
    "1. We have to compute the pdf(Z) values for every data point in the meshgrid.\n",
    "\n",
    "2. We can do the above by putting all the data points Xl and Yl in 2 columns and then computing pdf like we did before.\n",
    "\n",
    "3. We then have to reshape Z to the same shape as the meshgrid."
   ]
  },
  {
   "cell_type": "code",
   "execution_count": 304,
   "id": "932d4517-90c9-4ac6-9acd-64a6a0d2c72e",
   "metadata": {},
   "outputs": [
    {
     "name": "stdout",
     "output_type": "stream",
     "text": [
      "(576,)\n",
      "(24, 24)\n",
      "Shape of Z:(24, 24)\n",
      "\n",
      "Values of Z[[2.35279901e-24 1.93539942e-22 1.09511183e-20 4.26234330e-19\n",
      "  1.14114404e-17 2.10152517e-16 2.66213953e-15 2.31968556e-14\n",
      "  1.39036719e-13 5.73234068e-13 1.62568561e-12 3.17134303e-12\n",
      "  4.25551343e-12 3.92792149e-12 2.49388096e-12 1.08915761e-12\n",
      "  3.27195880e-13 6.76125027e-14 9.61055095e-15 9.39661962e-16\n",
      "  6.31970922e-17 2.92364497e-18 9.30366916e-20 2.03650730e-21]\n",
      " [1.12148502e-22 9.22527360e-21 5.21995934e-19 2.03168827e-17\n",
      "  5.43937643e-16 1.00171285e-14 1.26893525e-13 1.10570116e-12\n",
      "  6.62732335e-12 2.73237713e-11 7.74899198e-11 1.51165216e-10\n",
      "  2.02843275e-10 1.87228280e-10 1.18873313e-10 5.19157793e-11\n",
      "  1.55961167e-11 3.22281711e-12 4.58096458e-13 4.47899209e-14\n",
      "  3.01235218e-15 1.39358442e-16 4.43468633e-18 9.70721437e-20]\n",
      " [3.84708499e-21 3.16459078e-19 1.79062821e-17 6.96939977e-16\n",
      "  1.86589593e-14 3.43622464e-13 4.35289072e-12 3.79294085e-11\n",
      "  2.27340318e-10 9.37300707e-10 2.65817466e-09 5.18549442e-09\n",
      "  6.95823219e-09 6.42258336e-09 4.07776948e-09 1.78089240e-09\n",
      "  5.35001227e-10 1.10553873e-10 1.57143071e-11 1.53645059e-12\n",
      "  1.03334192e-13 4.78048087e-15 1.52125217e-16 3.32991328e-18]\n",
      " [9.49729084e-20 7.81241877e-18 4.42052021e-16 1.72053429e-14\n",
      "  4.60633347e-13 8.48300073e-12 1.07459724e-10 9.36362531e-10\n",
      "  5.61234578e-09 2.31391234e-08 6.56223035e-08 1.28014195e-07\n",
      "  1.71777736e-07 1.58554184e-07 1.00667812e-07 4.39648542e-08\n",
      "  1.32075643e-08 2.72924121e-09 3.87938778e-10 3.79303242e-11\n",
      "  2.55100908e-12 1.18015633e-13 3.75551211e-15 8.22055009e-17]\n",
      " [1.68731959e-18 1.38797974e-16 7.85364003e-15 3.05675721e-13\n",
      "  8.18376192e-12 1.50711751e-10 1.90916442e-09 1.66357214e-08\n",
      "  9.97107612e-08 4.11097194e-07 1.16586719e-06 2.27434183e-06\n",
      "  3.05185914e-06 2.81692522e-06 1.78849710e-06 7.81093905e-07\n",
      "  2.34649885e-07 4.84885873e-08 6.89224655e-09 6.73882481e-10\n",
      "  4.53220573e-11 2.09670414e-12 6.67216501e-14 1.46048968e-15]\n",
      " [2.15736990e-17 1.77464051e-15 1.00414922e-13 3.90830286e-12\n",
      "  1.04635789e-10 1.92696746e-09 2.44101585e-08 2.12700693e-07\n",
      "  1.27487997e-06 5.25619875e-06 1.49065228e-05 2.90792369e-05\n",
      "  3.90204030e-05 3.60165893e-05 2.28673324e-05 9.98689571e-06\n",
      "  3.00018207e-06 6.19964465e-07 8.81227559e-08 8.61611391e-09\n",
      "  5.79477905e-10 2.68080002e-11 8.53088414e-13 1.86735013e-14]\n",
      " [1.98509609e-16 1.63292904e-14 9.23964270e-13 3.59621072e-11\n",
      "  9.62802418e-10 1.77309213e-08 2.24609188e-07 1.95715771e-06\n",
      "  1.17307618e-05 4.83647223e-05 1.37161829e-04 2.67571544e-04\n",
      "  3.59044824e-04 3.31405342e-04 2.10412931e-04 9.18940589e-05\n",
      "  2.76060666e-05 5.70458056e-06 8.10858345e-07 7.92808599e-08\n",
      "  5.33204494e-09 2.46672843e-10 7.84966213e-12 1.71823546e-13]\n",
      " [1.31452276e-15 1.08131913e-13 6.11845474e-12 2.38139647e-10\n",
      "  6.37563941e-09 1.17413457e-07 1.48735313e-06 1.29602207e-05\n",
      "  7.76806394e-05 3.20269272e-04 9.08280191e-04 1.77184815e-03\n",
      "  2.37758058e-03 2.19455302e-03 1.39334608e-03 6.08518812e-04\n",
      "  1.82806278e-04 3.77755061e-05 5.36947179e-06 5.24994709e-07\n",
      "  3.53085901e-08 1.63345778e-09 5.19801512e-11 1.13780870e-12]\n",
      " [6.26447006e-15 5.15311833e-13 2.91580167e-11 1.13487475e-09\n",
      "  3.03836521e-08 5.59543821e-07 7.08810793e-06 6.17630348e-05\n",
      "  3.70193697e-04 1.52627047e-03 4.32848654e-03 8.44389314e-03\n",
      "  1.13305626e-02 1.04583292e-02 6.64010931e-03 2.89994818e-03\n",
      "  8.71178874e-04 1.80022389e-04 2.55886747e-05 2.50190696e-06\n",
      "  1.68266090e-07 7.78438204e-09 2.47715834e-10 5.42232420e-12]\n",
      " [2.14847459e-14 1.76732328e-12 1.00000890e-10 3.89218807e-09\n",
      "  1.04204352e-07 1.91902215e-06 2.43095100e-05 2.11823681e-04\n",
      "  1.26962336e-03 5.23452629e-03 1.48450599e-02 2.89593368e-02\n",
      "  3.88595133e-02 3.58680850e-02 2.27730454e-02 9.94571754e-03\n",
      "  2.98781166e-03 6.17408215e-04 8.77594064e-05 8.58058777e-06\n",
      "  5.77088590e-07 2.66974649e-08 8.49570943e-10 1.85965064e-11]\n",
      " [5.30280624e-14 4.36205900e-12 2.46819462e-10 9.60659218e-09\n",
      "  2.57194333e-07 4.73647801e-06 6.00000680e-05 5.22817418e-04\n",
      "  3.13364966e-03 1.29197147e-02 3.66401710e-02 7.14766433e-02\n",
      "  9.59119883e-02 8.85286268e-02 5.62078080e-02 2.45477481e-02\n",
      "  7.37443506e-03 1.52387008e-03 2.16605368e-04 2.11783722e-05\n",
      "  1.42435428e-06 6.58939531e-08 2.09688777e-09 4.58993886e-11]\n",
      " [9.41913346e-14 7.74812695e-12 4.38414180e-10 1.70637526e-08\n",
      "  4.56842593e-07 8.41319039e-06 1.06575391e-04 9.28656792e-04\n",
      "  5.56615932e-03 2.29487014e-02 6.50822687e-02 1.26960710e-01\n",
      "  1.70364101e-01 1.57249372e-01 9.98393721e-02 4.36030481e-02\n",
      "  1.30988735e-02 2.70678108e-03 3.84746259e-04 3.76181789e-05\n",
      "  2.53001570e-06 1.17044431e-07 3.72460635e-09 8.15289957e-11]\n",
      " [1.20405353e-13 9.90447759e-12 5.60427502e-10 2.18126983e-08\n",
      "  5.83984652e-07 1.07546322e-05 1.36235968e-04 1.18710760e-03\n",
      "  7.11525516e-03 2.93354639e-02 8.31950582e-02 1.62294644e-01\n",
      "  2.17777462e-01 2.01012824e-01 1.27625274e-01 5.57380404e-02\n",
      "  1.67443693e-02 3.46009465e-03 4.91823473e-04 4.80875459e-05\n",
      "  3.23413439e-06 1.49618605e-07 4.76118685e-09 1.04219009e-10]\n",
      " [1.10766975e-13 9.11162996e-12 5.15565609e-10 2.00666046e-08\n",
      "  5.37237023e-07 9.89373021e-06 1.25330358e-04 1.09208033e-03\n",
      "  6.54568316e-03 2.69871772e-02 7.65353425e-02 1.49303053e-01\n",
      "  2.00344504e-01 1.84921866e-01 1.17408945e-01 5.12762430e-02\n",
      "  1.54039923e-02 3.18311610e-03 4.52453292e-04 4.42381660e-05\n",
      "  2.97524383e-06 1.37641723e-07 4.38005663e-09 9.58763383e-11]\n",
      " [7.33338442e-14 6.03240136e-12 3.41332856e-10 1.32851985e-08\n",
      "  3.55680527e-07 6.55019484e-06 8.29756065e-05 7.23017386e-04\n",
      "  4.33360311e-03 1.78669991e-02 5.06706161e-02 9.88468519e-02\n",
      "  1.32639106e-01 1.22428470e-01 7.77311946e-02 3.39476997e-02\n",
      "  1.01982921e-02 2.10739834e-03 2.99549023e-04 2.92881047e-05\n",
      "  1.96977544e-06 9.11264088e-08 2.89983896e-09 6.34754216e-11]\n",
      " [3.49404312e-14 2.87418050e-12 1.62630465e-10 6.32982724e-09\n",
      "  1.69466515e-07 3.12088688e-06 3.95343174e-05 3.44486772e-04\n",
      "  2.06477600e-03 8.51285870e-03 2.41423751e-02 4.70962851e-02\n",
      "  6.31968449e-02 5.83319144e-02 3.70355801e-02 1.61746228e-02\n",
      "  4.85904877e-03 1.00408492e-03 1.42722261e-04 1.39545256e-05\n",
      "  9.38513507e-07 4.34178251e-08 1.38164888e-09 3.02433157e-11]\n",
      " [1.19806871e-14 9.85524673e-13 5.57641860e-11 2.17042768e-09\n",
      "  5.81081918e-08 1.07011756e-06 1.35558798e-05 1.18120700e-04\n",
      "  7.07988832e-04 2.91896500e-03 8.27815316e-03 1.61487948e-02\n",
      "  2.16694985e-02 2.00013677e-02 1.26990904e-02 5.54609908e-03\n",
      "  1.66611403e-03 3.44289602e-04 4.89378832e-05 4.78485236e-06\n",
      "  3.21805892e-07 1.48874916e-08 4.73752106e-10 1.03700981e-11]\n",
      " [2.95641122e-15 2.43192748e-13 1.37606353e-11 5.35585040e-10\n",
      "  1.43390533e-08 2.64067290e-07 3.34511325e-06 2.91480249e-05\n",
      "  1.74706686e-04 7.20297664e-04 2.04275638e-03 3.98495327e-03\n",
      "  5.34726833e-03 4.93563246e-03 3.13368784e-03 1.36858174e-03\n",
      "  4.11138209e-04 8.49585369e-05 1.20761444e-05 1.18073289e-06\n",
      "  7.94103497e-08 3.67370810e-09 1.16905319e-10 2.55897466e-12]\n",
      " [5.25022136e-16 4.31880297e-14 2.44371895e-12 9.51132913e-11\n",
      "  2.54643885e-09 4.68950908e-08 5.94050818e-07 5.17632938e-06\n",
      "  3.10257506e-05 1.27915973e-04 3.62768315e-04 7.07678506e-04\n",
      "  9.49608843e-04 8.76507393e-04 5.56504275e-04 2.43043222e-04\n",
      "  7.30130703e-05 1.50875873e-05 2.14457417e-06 2.09683584e-07\n",
      "  1.41022978e-08 6.52405206e-10 2.07609414e-11 4.54442308e-13]\n",
      " [6.70996169e-17 5.51957728e-15 3.12315604e-13 1.21558025e-11\n",
      "  3.25443557e-10 5.99335231e-09 7.59217176e-08 6.61552523e-07\n",
      "  3.96519659e-06 1.63480970e-05 4.63630261e-05 9.04437231e-05\n",
      "  1.21363244e-04 1.12020630e-04 7.11231416e-05 3.10617515e-05\n",
      "  9.33131903e-06 1.92824504e-06 2.74083882e-07 2.67982761e-08\n",
      "  1.80232168e-09 8.33796072e-11 2.65331902e-12 5.80792746e-14]\n",
      " [6.17151973e-18 5.07665790e-16 2.87253788e-14 1.11803582e-12\n",
      "  2.99328286e-11 5.51241478e-10 6.98293671e-09 6.08466134e-08\n",
      "  3.64700874e-07 1.50362413e-06 4.26426175e-06 8.31860518e-06\n",
      "  1.11624431e-05 1.03031516e-05 6.54158535e-06 2.85691962e-06\n",
      "  8.58252583e-07 1.77351271e-07 2.52089976e-08 2.46478441e-09\n",
      "  1.65769409e-10 7.66887971e-12 2.44040300e-13 5.34186938e-15]\n",
      " [4.08501689e-19 3.36031224e-17 1.90137378e-15 7.40043848e-14\n",
      "  1.98129660e-12 3.64874593e-11 4.62210536e-10 4.02752409e-09\n",
      "  2.41400708e-08 9.95270246e-08 2.82257565e-07 5.50620337e-07\n",
      "  7.38858022e-07 6.81980295e-07 4.32996861e-07 1.89103583e-07\n",
      "  5.68089620e-08 1.17391334e-08 1.66861949e-09 1.63147594e-10\n",
      "  1.09725135e-11 5.07614081e-13 1.61533754e-14 3.53585950e-16]\n",
      " [1.94592119e-20 1.60070398e-18 9.05730284e-17 3.52524124e-15\n",
      "  9.43801979e-14 1.73810101e-12 2.20176635e-11 1.91853416e-10\n",
      "  1.14992609e-09 4.74102680e-09 1.34455007e-08 2.62291150e-08\n",
      "  3.51959249e-08 3.24865218e-08 2.06260534e-08 9.00805743e-09\n",
      "  2.70612743e-09 5.59200343e-10 7.94856449e-11 7.77162906e-12\n",
      "  5.22681962e-13 2.41804874e-14 7.69475286e-16 1.68432692e-17]\n",
      " [6.67092857e-22 5.48746885e-20 3.10498805e-18 1.20850899e-16\n",
      "  3.23550390e-15 5.95848784e-14 7.54800665e-13 6.57704146e-12\n",
      "  3.94213028e-11 1.62529970e-10 4.60933235e-10 8.99175947e-10\n",
      "  1.20657251e-09 1.11368985e-09 7.07094047e-10 3.08810594e-10\n",
      "  9.27703698e-11 1.91702807e-11 2.72489484e-12 2.66423855e-13\n",
      "  1.79183723e-14 8.28945721e-16 2.63788416e-17 5.77414164e-19]]\n"
     ]
    }
   ],
   "source": [
    "# Flatten and convert the Xl and Yl points to a numpy arrary with 2 columns\n",
    "# np.dstack Stacks arrays in sequence depth wise\n",
    "\n",
    "print(Xl.flatten().shape)\n",
    "array = np.dstack((Xl.flatten(),Yl.flatten())).reshape(-1,2)\n",
    "\n",
    "# Put the array into a pandas dataframe\n",
    "\n",
    "array = pd.DataFrame(array,columns=['x1','x2'])\n",
    "\n",
    "# Compute total pdf and reshape Z\n",
    "\n",
    "Z = pdf(array,train_mean,train_std)\n",
    "Z = np.array(Z).reshape(Xl.shape)\n",
    "\n",
    "print(Z.shape)\n",
    "print(f\"Shape of Z:{Z.shape}\\n\\nValues of Z{Z}\")"
   ]
  },
  {
   "cell_type": "code",
   "execution_count": 305,
   "id": "612215c0-0aaf-4226-af72-68718b203994",
   "metadata": {
    "scrolled": false
   },
   "outputs": [
    {
     "data": {
      "image/png": "[encoded data removed]",
      "text/plain": [
       "<Figure size 576x576 with 1 Axes>"
      ]
     },
     "metadata": {
      "needs_background": "light"
     },
     "output_type": "display_data"
    }
   ],
   "source": [
    "# Visualize normal data, all anomlaies using Contour plots\n",
    "# Mark anomalies in red\n",
    "\n",
    "plt.figure(figsize=(8,8))\n",
    "plt.title(f\"eps=%f\" % eps)\n",
    "plt.scatter(train_copy['x1'],train_copy['x2'])\n",
    "plt.scatter(test_copy['x1'],test_copy['x2'],c='r')\n",
    "plt.scatter(df_bv_anomalies['x1'],df_bv_anomalies['x2'],c='r')\n",
    "levels = [0,0.0002,0.002,0.006, 0.032]\n",
    "CS = plt.contour(Xl,Yl,Z,levels,linestyles='dashed',colors='black')\n",
    "plt.clabel(CS, inline=True, fontsize=12)\n",
    "plt.xlim(-4,5)\n",
    "plt.ylim(-3,6)\n",
    "plt.xlabel(\"x1\")\n",
    "plt.ylabel(\"x2\")\n",
    "plt.show()\n",
    "\n"
   ]
  },
  {
   "cell_type": "markdown",
   "id": "5818cb38",
   "metadata": {},
   "source": [
    "### Contour  Analysis (Independent Features)\n",
    "\n",
    "In the contour plot above, about 6 other train data points besides the test data got classified as being anomalies.\n",
    "\n",
    "The reason for this issue is most likely due to the probability density function being calculated on independent features.\n",
    "Since the variables were treated as independent, the pdf will center around the largest cluster of data that is close in geometric distance to each other. As a result, the contour lines will form to be more circular and will leave out points that are as clustered towards the center of majority"
   ]
  },
  {
   "cell_type": "markdown",
   "id": "232b3700",
   "metadata": {},
   "source": [
    "-------------------------"
   ]
  },
  {
   "cell_type": "markdown",
   "id": "4b09ae9b-f1db-481d-87bb-532caa6f1dbb",
   "metadata": {},
   "source": [
    "### Case for multi-variate data with orientation ###\n",
    "\n",
    "Formula for multi-variate  $ p(x:\\mu,\\Sigma) = \\frac{1}{(2\\pi)^{n/2}|\\Sigma|^{1/2}}e^-(-\\frac{1}{2}(X-\\mu)^T\\Sigma^-1(X-\\mu)) $"
   ]
  },
  {
   "cell_type": "markdown",
   "id": "a46eefe7-95cc-48c8-bce5-cd1d0cda92d0",
   "metadata": {},
   "source": [
    "##### Repeat the same process but this time assuming there is covariance in the data ####"
   ]
  },
  {
   "cell_type": "code",
   "execution_count": 306,
   "id": "f02f4f38-4057-49fd-b469-5d37f4c01f45",
   "metadata": {},
   "outputs": [],
   "source": [
    "train_mv = pd.read_csv('train.csv')"
   ]
  },
  {
   "cell_type": "code",
   "execution_count": 307,
   "id": "7febc125",
   "metadata": {},
   "outputs": [
    {
     "data": {
      "image/png": "[encoded data removed]",
      "text/plain": [
       "<Figure size 432x288 with 1 Axes>"
      ]
     },
     "metadata": {
      "needs_background": "light"
     },
     "output_type": "display_data"
    }
   ],
   "source": [
    "plt.scatter(train_mv.x1,train_mv.x2)\n",
    "plt.show()"
   ]
  },
  {
   "cell_type": "code",
   "execution_count": 308,
   "id": "736e6348",
   "metadata": {},
   "outputs": [
    {
     "name": "stdout",
     "output_type": "stream",
     "text": [
      "x1    0.142955\n",
      "x2    0.123187\n",
      "dtype: float64 \n",
      "           x1        x2\n",
      "x1  0.668154  0.610888\n",
      "x2  0.610888  0.759945\n"
     ]
    }
   ],
   "source": [
    "train_mv_mean = train_mv.mean()\n",
    "train_mv_cov = train_mv.cov()\n",
    "\n",
    "print(train_mv_mean,'\\n',train_mv_cov)"
   ]
  },
  {
   "cell_type": "code",
   "execution_count": 309,
   "id": "2dc5be0e",
   "metadata": {},
   "outputs": [
    {
     "name": "stdout",
     "output_type": "stream",
     "text": [
      "         x1        x2        px\n",
      "0 -0.426805 -0.538380  0.323973\n",
      "1 -0.965742 -0.331686  0.079653\n",
      "2  0.273106  0.188718  0.425352\n",
      "3 -1.646928 -1.449253  0.039060\n",
      "4  0.304448  0.598405  0.325971\n"
     ]
    }
   ],
   "source": [
    "from scipy.stats import multivariate_normal\n",
    "\n",
    "# use multivariate formula for calculating px values\n",
    "train_px = multivariate_normal.pdf(train_mv, train_mv_mean,train_mv_cov) \n",
    "\n",
    "# Add column to train_mv\n",
    "train_mv['px'] = train_px\n",
    "\n",
    "print(train_mv.head())"
   ]
  },
  {
   "cell_type": "code",
   "execution_count": 310,
   "id": "83954c5d",
   "metadata": {},
   "outputs": [
    {
     "name": "stdout",
     "output_type": "stream",
     "text": [
      "0.42535185017605254 0.0030320905723394353\n"
     ]
    }
   ],
   "source": [
    "# Again check for smallest and largest values to assume eps\n",
    "\n",
    "max_px = train_mv['px'].max()\n",
    "min_px = train_mv['px'].min()\n",
    "print(max_px,min_px)\n",
    "\n",
    "# assume pdf < eps means anomaly // \n",
    "\n",
    "# to prevent anomaly, eps must be slightly smaller than smallest pdf_value\n",
    "\n",
    "eps_mv = 0.00303\n",
    "# if none of the pdf values are anomalies"
   ]
  },
  {
   "cell_type": "code",
   "execution_count": 311,
   "id": "4173cf49",
   "metadata": {},
   "outputs": [
    {
     "name": "stdout",
     "output_type": "stream",
     "text": [
      "x1   -1.0\n",
      "x2   -0.5\n",
      "dtype: float64 \n",
      "      x1   x2\n",
      "x1  2.0 -3.0\n",
      "x2 -3.0  4.5\n"
     ]
    }
   ],
   "source": [
    "# calculate px for test\n",
    "\n",
    "test_mv = pd.read_csv('test.csv')\n",
    "test_mv_mean = test_mv.mean()\n",
    "test_mv_cov = test_mv.cov()\n",
    "\n",
    "print(test_mv_mean,'\\n',test_mv_cov)"
   ]
  },
  {
   "cell_type": "code",
   "execution_count": 312,
   "id": "7279ed58",
   "metadata": {},
   "outputs": [
    {
     "name": "stdout",
     "output_type": "stream",
     "text": [
      "(576,)\n",
      "(24, 24)\n",
      "Shape of Z:(24, 24)\n",
      "\n",
      "Values of Z[[1.24879537e-013 1.93589826e-012 7.31417970e-012 6.73504605e-012\n",
      "  1.51149724e-012 8.26734376e-014 1.10208852e-015 3.58062475e-018\n",
      "  2.83526063e-021 5.47165884e-025 2.57357531e-029 2.95016699e-034\n",
      "  8.24229517e-040 5.61230900e-046 9.31379838e-053 3.76707214e-060\n",
      "  3.71340988e-068 8.92141386e-077 5.22379748e-086 7.45471120e-096\n",
      "  2.59278892e-106 2.19783633e-117 4.54062232e-129 2.28626864e-141]\n",
      " [2.36198818e-013 1.13899190e-011 1.33861411e-010 3.83426398e-010\n",
      "  2.67670473e-010 4.55418607e-011 1.88848231e-012 1.90856484e-014\n",
      "  4.70102719e-017 2.82208736e-020 4.12895350e-024 1.47231717e-028\n",
      "  1.27954218e-033 2.71018967e-039 1.39906087e-045 1.76021364e-052\n",
      "  5.39741736e-060 4.03365237e-068 7.34687717e-077 3.26136149e-086\n",
      "  3.52847418e-096 9.30393776e-107 5.97913688e-118 9.36487623e-130]\n",
      " [1.29125269e-013 1.93689387e-011 7.08096185e-010 6.30914534e-009\n",
      "  1.37006337e-008 7.25107884e-009 9.35311867e-010 2.94037085e-011\n",
      "  2.25288810e-013 4.20696577e-016 1.91465347e-019 2.12374924e-023\n",
      "  5.74127215e-028 3.78272596e-033 6.07426132e-039 2.37724482e-045\n",
      "  2.26749426e-052 5.27121012e-060 2.98652605e-068 4.12395705e-077\n",
      "  1.38788604e-086 1.13837494e-096 2.27566690e-107 1.10872517e-118]\n",
      " [2.04028972e-014 9.52002508e-012 1.08262036e-009 3.00058639e-008\n",
      "  2.02687948e-007 3.33688749e-007 1.33889663e-007 1.30931572e-008\n",
      "  3.12056734e-010 1.81265263e-012 2.56618201e-015 8.85425806e-019\n",
      "  7.44575499e-023 1.52600921e-027 7.62249965e-033 9.27960561e-039\n",
      "  2.75329960e-045 1.99099088e-052 3.50894788e-060 1.50721918e-068\n",
      "  1.57785740e-077 4.02578834e-087 2.50337535e-097 3.79396091e-108]\n",
      " [9.31793173e-016 1.35243824e-012 4.78417665e-010 4.12466630e-008\n",
      "  8.66686990e-007 4.43841168e-006 5.53968071e-006 1.68513125e-006\n",
      "  1.24932255e-007 2.25739351e-009 9.94103975e-012 1.06696014e-014\n",
      "  2.79097810e-018 1.77933003e-022 2.76470269e-027 1.04696511e-032\n",
      "  9.66290764e-039 2.17357833e-045 1.19161129e-052 1.59215655e-060\n",
      "  5.18476141e-069 4.11494117e-078 7.95958328e-088 3.75239785e-098]\n",
      " [1.22996935e-017 5.55320714e-014 6.11062039e-011 1.63877218e-008\n",
      "  1.07113376e-006 1.70632079e-005 6.62475011e-005 6.26859435e-005\n",
      "  1.44564840e-005 8.12544283e-007 1.11307197e-008 3.71613343e-011\n",
      "  3.02378702e-014 5.99657052e-018 2.89832137e-022 3.41414514e-027\n",
      "  9.80187740e-033 6.85848827e-039 1.16960544e-045 4.86118566e-053\n",
      "  4.92421359e-061 1.21569157e-069 7.31478847e-079 1.07268445e-088]\n",
      " [4.69262806e-020 6.59048514e-016 2.25585138e-012 1.88189518e-009\n",
      "  3.82624013e-007 1.89601104e-005 2.28982002e-004 6.73990355e-004\n",
      "  4.83501540e-004 8.45344805e-005 3.60214974e-006 3.74094637e-008\n",
      "  9.46875870e-011 5.84112450e-014 8.78196544e-018 3.21794659e-022\n",
      "  2.87380824e-027 6.25501832e-033 3.31811347e-039 4.28988578e-046\n",
      "  1.35173659e-053 1.03807865e-061 1.94294404e-070 8.86302910e-080]\n",
      " [5.17469859e-023 2.26067420e-018 2.40703688e-014 6.24624993e-011\n",
      "  3.95046135e-008 6.08931056e-006 2.28760100e-004 2.09451887e-003\n",
      "  4.67390762e-003 2.54195477e-003 3.36935956e-004 1.08847572e-005\n",
      "  8.57002287e-008 1.64451206e-010 7.69102086e-014 8.76642989e-018\n",
      "  2.43530514e-022 1.64882990e-027 2.72075959e-033 1.09419904e-039\n",
      "  1.07249269e-046 2.56202990e-054 1.49164644e-062 2.11660318e-071]\n",
      " [1.64930534e-026 2.24132922e-021 7.42338673e-017 5.99225610e-013\n",
      "  1.17888242e-009 5.65252468e-007 6.60550898e-005 1.88131689e-003\n",
      "  1.30589864e-002 2.20927018e-002 9.10919581e-003 9.15383526e-004\n",
      "  2.24190907e-005 1.33821145e-007 1.94680896e-010 6.90261702e-014\n",
      "  5.96480248e-018 1.25623301e-022 6.44816562e-028 8.06666484e-034\n",
      "  2.45948223e-040 1.82761709e-047 3.30992826e-055 1.46097840e-063]\n",
      " [1.51937212e-030 6.42274098e-025 6.61711235e-020 1.66153103e-015\n",
      "  1.01681103e-011 1.51657499e-008 5.51289065e-006 4.88412435e-004\n",
      "  1.05459545e-002 5.54979476e-002 7.11802972e-002 2.22502307e-002\n",
      "  1.69512250e-003 3.14745480e-005 1.42432719e-007 1.57091206e-010\n",
      "  4.22265723e-014 2.76637870e-018 4.41701913e-023 1.71885316e-028\n",
      "  1.63019711e-034 3.76819448e-041 2.12284529e-048 2.91470918e-056]\n",
      " [4.04551973e-035 5.31964002e-029 1.70483366e-023 1.33159951e-018\n",
      "  2.53487815e-014 1.17606790e-010 1.32984049e-007 3.66486982e-005\n",
      "  2.46155419e-003 4.02950868e-002 1.60763198e-001 1.56319453e-001\n",
      "  3.70451419e-002 2.13964314e-003 3.01191890e-005 1.03332527e-007\n",
      "  8.64017766e-011 1.76075991e-014 8.74519421e-019 1.05859691e-023\n",
      "  3.12308376e-029 2.24557978e-035 3.93518534e-042 1.68071371e-049]\n",
      " [3.11337601e-040 1.27347717e-033 1.26952892e-027 3.08450784e-022\n",
      "  1.82650560e-017 2.63601564e-013 9.27185869e-010 7.94835897e-007\n",
      "  1.66065718e-004 8.45618257e-003 1.04944712e-001 3.17423164e-001\n",
      "  2.33996046e-001 4.20407319e-002 1.84087315e-003 1.96457814e-005\n",
      "  5.10983171e-008 3.23918486e-011 5.00445418e-015 1.88438461e-019\n",
      "  1.72931546e-024 3.86786002e-030 2.10842967e-036 2.80116916e-043]\n",
      " [6.92525718e-046 8.81144554e-039 2.73243766e-032 2.06511961e-026\n",
      "  3.80392554e-021 1.70769635e-016 1.86844853e-012 4.98245603e-009\n",
      "  3.23815518e-006 5.12912976e-004 1.98007465e-002 1.86299327e-001\n",
      "  4.27201585e-001 2.38751590e-001 3.25200748e-002 1.07956463e-003\n",
      "  8.73449103e-006 1.72233809e-008 8.27734501e-012 9.69517282e-016\n",
      "  2.76765466e-020 1.92557345e-025 3.26512737e-031 1.34937299e-037]\n",
      " [4.45232972e-052 1.76217989e-044 1.69982812e-037 3.99624058e-031\n",
      "  2.28976065e-025 3.19757248e-020 1.08828478e-015 9.02727260e-012\n",
      "  1.82499806e-008 8.99207879e-006 1.07981572e-003 3.16031984e-002\n",
      "  2.25426140e-001 3.91894671e-001 1.66045186e-001 1.71464835e-002\n",
      "  4.31534667e-004 2.64696477e-006 3.95705857e-009 1.44174563e-012\n",
      "  1.28025551e-016 2.77074471e-021 1.46146432e-026 1.87876201e-032]\n",
      " [8.27343412e-059 1.01859233e-050 3.05637641e-043 2.23514201e-036\n",
      "  3.98377912e-030 1.73052241e-024 1.83210792e-019 4.72733872e-015\n",
      "  2.97285850e-011 4.55641845e-008 1.70202060e-005 1.54952244e-003\n",
      "  3.43813380e-002 1.85925743e-001 2.45046285e-001 7.87133809e-002\n",
      "  6.16227192e-003 1.17577710e-004 5.46765346e-007 6.19681902e-010\n",
      "  1.71170331e-013 1.15233835e-017 1.89070333e-022 7.56064083e-028]\n",
      " [4.44356347e-066 1.70175739e-057 1.58838489e-049 3.61331395e-042\n",
      "  2.00330694e-035 2.70695564e-029 8.91469787e-024 7.15523606e-019\n",
      "  1.39969416e-014 6.67320061e-011 7.75402253e-008 2.19589608e-005\n",
      "  1.51561311e-003 2.54951031e-002 1.04524244e-001 1.04440550e-001\n",
      "  2.54339087e-002 1.50955490e-003 2.18361749e-005 7.69832183e-008\n",
      "  6.61465821e-011 1.38519400e-014 7.06977578e-019 8.79412281e-024]\n",
      " [6.89801357e-074 8.21754267e-065 2.38589726e-056 1.68831452e-048\n",
      "  2.91170129e-041 1.22386110e-034 1.25374521e-028 3.13024472e-023\n",
      "  1.90475509e-018 2.82482691e-014 1.02102502e-010 8.99441201e-008\n",
      "  1.93108334e-005 1.01046460e-003 1.28864423e-002 4.00531624e-002\n",
      "  3.03411779e-002 5.60170082e-003 2.52057270e-004 2.76420593e-006\n",
      "  7.38811093e-009 4.81269420e-012 7.64073211e-016 2.95647034e-020]\n",
      " [3.09502229e-082 1.14692065e-072 1.03584509e-063 2.28006955e-055\n",
      "  1.22318804e-047 1.59930098e-040 5.09634744e-034 3.95803563e-028\n",
      "  7.49190424e-023 3.45618183e-018 3.88591051e-014 1.06483141e-010\n",
      "  7.11149254e-008 1.15753068e-005 4.59193900e-004 4.43967885e-003\n",
      "  1.04616178e-002 6.00811156e-003 8.40947676e-004 2.86874409e-005\n",
      "  2.38509942e-007 4.83295792e-010 2.38677449e-013 2.87277497e-017]\n",
      " [4.01375260e-091 4.62670551e-081 1.29982523e-071 8.89999810e-063\n",
      "  1.48520606e-054 6.04053434e-047 5.98764232e-040 1.44653247e-033\n",
      "  8.51711230e-028 1.22221724e-022 4.27460791e-018 3.64364461e-014\n",
      "  7.56950679e-011 3.83257800e-008 4.72940241e-006 1.42237261e-004\n",
      "  1.04258709e-003 1.86252945e-003 8.10934545e-004 8.60518679e-005\n",
      "  2.22549513e-006 1.40276474e-008 2.15493851e-011 8.06820214e-015]\n",
      " [1.50447335e-100 5.39457735e-090 4.71435407e-080 1.00410427e-070\n",
      "  5.21227451e-062 6.59428317e-054 2.03329200e-046 1.52800142e-039\n",
      "  2.79859214e-033 1.24924411e-027 1.35908574e-022 3.60361386e-018\n",
      "  2.32874260e-014 3.66772339e-011 1.40787309e-008 1.31711073e-006\n",
      "  3.00312158e-005 1.66884264e-004 2.26021477e-004 7.46063643e-005\n",
      "  6.00197098e-006 1.17680296e-007 5.62348394e-010 6.54936228e-013]\n",
      " [1.62991697e-110 1.81798407e-099 4.94204291e-089 3.27427232e-079\n",
      "  5.28706841e-070 2.08068774e-061 1.99567922e-053 4.66515855e-046\n",
      "  2.65787118e-039 3.69056870e-033 1.24894843e-027 1.03011940e-022\n",
      "  2.07072523e-018 1.01449341e-014 1.21134494e-011 3.52515548e-009\n",
      "  2.50023350e-007 4.32189997e-006 1.82079352e-005 1.86955624e-005\n",
      "  4.67851703e-006 2.85344655e-007 4.24153561e-009 1.53662657e-011]\n",
      " [5.10379876e-121 1.77080118e-109 1.49740027e-098 3.08601378e-088\n",
      "  1.55006411e-078 1.89755034e-069 5.66146465e-061 4.11676560e-053\n",
      "  7.29584043e-046 3.15127541e-039 3.31733431e-033 8.51106619e-028\n",
      "  5.32194696e-023 8.11052492e-019 3.01244572e-015 2.72697618e-012\n",
      "  6.01638065e-010 3.23505087e-008 4.23954031e-007 1.35409231e-006\n",
      "  1.05407040e-006 1.99978273e-007 9.24672317e-009 1.04204085e-010]\n",
      " [4.61922041e-132 4.98536100e-120 1.31134325e-108 8.40674753e-098\n",
      "  1.31350422e-087 5.00180533e-078 4.64209416e-069 1.05000883e-060\n",
      "  5.78847027e-053 7.77725802e-046 2.54671916e-039 2.03248547e-033\n",
      "  3.95335387e-028 1.87411302e-023 2.16529819e-019 6.09721480e-016\n",
      "  4.18443786e-013 6.99897752e-011 2.85314550e-009 2.83468685e-008\n",
      "  6.86401311e-008 4.05082020e-008 5.82639167e-009 2.04243494e-010]\n",
      " [1.20834489e-143 4.05667769e-131 3.31926513e-119 6.61919584e-108\n",
      "  3.21706892e-097 3.81072268e-087 1.10013548e-077 7.74063959e-069\n",
      "  1.32739253e-060 5.54770981e-053 5.65093030e-046 1.40287189e-039\n",
      "  8.48804983e-034 1.25166952e-028 4.49845393e-024 3.94029490e-020\n",
      "  8.41174350e-017 4.37658295e-014 5.54978492e-012 1.71517717e-010\n",
      "  1.29191420e-009 2.37164783e-009 1.06110553e-009 1.15706778e-010]]\n"
     ]
    }
   ],
   "source": [
    "# Use same meshgrid from above, just change pdf function to multivariate function to calculate new z values\n",
    "\n",
    "        # Flatten and convert the Xl and Yl points to a numpy arrary with 2 columns\n",
    "        # np.dstack Stacks arrays in sequence depth wise\n",
    "\n",
    "print(Xl.flatten().shape)\n",
    "array = np.dstack((Xl.flatten(),Yl.flatten())).reshape(-1,2)\n",
    "\n",
    "        # Put the array into a pandas dataframe\n",
    "\n",
    "array = pd.DataFrame(array,columns=['x1','x2'])\n",
    "\n",
    "        # Compute total pdf and reshape Z\n",
    "\n",
    "Z = multivariate_normal.pdf(array,train_mv_mean,train_mv_cov)\n",
    "Z = np.array(Z).reshape(Xl.shape)\n",
    "\n",
    "print(Z.shape)\n",
    "print(f\"Shape of Z:{Z.shape}\\n\\nValues of Z{Z}\")"
   ]
  },
  {
   "cell_type": "code",
   "execution_count": 313,
   "id": "c41b1edc",
   "metadata": {
    "scrolled": true
   },
   "outputs": [
    {
     "name": "stdout",
     "output_type": "stream",
     "text": [
      "x1   -1.0\n",
      "x2   -0.5\n",
      "dtype: float64\n",
      " \n",
      "     x1   x2\n",
      "x1  2.0 -3.0\n",
      "x2 -3.0  4.5\n"
     ]
    }
   ],
   "source": [
    "test_mv = pd.read_csv('test.csv')\n",
    "test_mv_mean = test_mv.mean()\n",
    "test_mv_cov = test_mv.cov()\n",
    "\n",
    "print(test_mv_mean)\n",
    "print(' ')\n",
    "print(test_mv_cov)"
   ]
  },
  {
   "cell_type": "code",
   "execution_count": 314,
   "id": "2a090266",
   "metadata": {},
   "outputs": [
    {
     "data": {
      "image/png": "[encoded data removed]",
      "text/plain": [
       "<Figure size 576x576 with 1 Axes>"
      ]
     },
     "metadata": {
      "needs_background": "light"
     },
     "output_type": "display_data"
    }
   ],
   "source": [
    "# Visualize data with multivariate pdf function,\n",
    "\n",
    "plt.figure(figsize=(8,8))\n",
    "plt.title(f\"eps=%f\" % eps_mv)\n",
    "plt.scatter(train_mv['x1'],train_mv['x2'])\n",
    "plt.scatter(test_mv['x1'],test_mv['x2'],c='r')\n",
    "levels = [0, 0.002, 0.0303]\n",
    "CS = plt.contour(Xl,Yl,Z,levels,linestyles='dashed',colors='black')\n",
    "plt.clabel(CS, inline=True, fontsize=12)\n",
    "plt.xlim(-4,5)\n",
    "plt.ylim(-3,6)\n",
    "plt.xlabel(\"x1\")\n",
    "plt.ylabel(\"x2\")\n",
    "plt.show()\n"
   ]
  },
  {
   "cell_type": "markdown",
   "id": "acf6f886",
   "metadata": {},
   "source": [
    "### Contour  Analysis (Dependent Features)\n",
    "\n",
    "In the above contour plot, the original eps of 0.03 misclassified one of the training data as an anamoly. However, by decreasing the eps to 0.002, all the train data was classified properly as normal and the test data was makred as anomalies.\n",
    "\n",
    "This countour plot performed better than the previous one since the features were treated as dependent. The distinction of the data having dependent features instead of independent features is important because the original scatter plot of the data shows that X1 and X2 have a linear correlation with each other. \n",
    "\n",
    "By taking the dependency of features into consideration, the probability density function can more accurately represent what belongs as normal data.\n",
    "\n",
    "As shown in the contour plot, the contour lines more accurately fit the shape of the data and included all the necessary points."
   ]
  },
  {
   "cell_type": "markdown",
   "id": "e5ed35d5",
   "metadata": {},
   "source": [
    "### Coding Reflection Paragraph\n",
    "\n",
    "The main takeaway I took from this project was the large importance of analyzing how feature data relates with each other. As shown with the contour plots, a small distinction between related or unrelated features can result in either a massive increase or loss in predictive power. The contour plots were cool to learn because they help visualize how density pdfs can 2-dimensionally separate data.\n",
    "\n",
    "The main challenge I had while doing this homework was conceptually remembering how to use epsilon to classify anomalies and how epsilon was represented on the contour graphs. At first, I was confused as how to set epsilon in regards to the pdf values, but I eventually remembered that values below epsilon indicated anomalies.\n",
    "\n",
    "Other than some conceptual issues, the coding only became frustrating gwhen I would mix up variable names or mess up the dimensions or array size of the mesh grid. \n",
    "\n",
    "The homework was very useful in practicing anomaly detection and visualizing the actual process."
   ]
  }
 ],
 "metadata": {
  "kernelspec": {
   "display_name": "Python 3 (ipykernel)",
   "language": "python",
   "name": "python3"
  },
  "language_info": {
   "codemirror_mode": {
    "name": "ipython",
    "version": 3
   },
   "file_extension": ".py",
   "mimetype": "text/x-python",
   "name": "python",
   "nbconvert_exporter": "python",
   "pygments_lexer": "ipython3",
   "version": "3.9.1"
  }
 },
 "nbformat": 4,
 "nbformat_minor": 5
}
