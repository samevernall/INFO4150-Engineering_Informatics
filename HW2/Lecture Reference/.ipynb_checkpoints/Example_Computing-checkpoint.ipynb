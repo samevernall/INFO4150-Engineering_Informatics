{
 "cells": [
  {
   "cell_type": "markdown",
   "id": "ec8257b5-5f66-40bc-a236-b6fc3b3bc651",
   "metadata": {},
   "source": [
    "### Examples of computing probabilty density factors(pdf) and using epsilon threshholds ###"
   ]
  },
  {
   "cell_type": "code",
   "execution_count": 1,
   "id": "c8031b21-fd87-4780-a4a3-2e45e71ff59d",
   "metadata": {},
   "outputs": [],
   "source": [
    "import numpy as np\n",
    "from matplotlib import pyplot as plt\n",
    "import pandas as pd"
   ]
  },
  {
   "cell_type": "markdown",
   "id": "da0d99f6-598f-4527-a555-c9c45a88fb10",
   "metadata": {},
   "source": [
    "#### Univariate Gaussian probability distribution ####\n",
    "$ p(x) = \\frac{1}{\\sqrt{(2\\pi\\sigma^2)}}e^-(\\frac{x-\\mu^2}{2\\sigma^2}) $"
   ]
  },
  {
   "cell_type": "code",
   "execution_count": 2,
   "id": "1194a304-38cc-4506-a30e-227f7d0b95f4",
   "metadata": {},
   "outputs": [
    {
     "name": "stdout",
     "output_type": "stream",
     "text": [
      "[ 1.18246458 -1.7035647   0.60609874 -4.25183909  1.88285708 -3.83680335\n",
      "  0.0128177  -0.30056918 -2.0174547   7.17954849]\n",
      "mu and sigma:(-0.36076874409672127, 2.6148762258894673)\n"
     ]
    }
   ],
   "source": [
    "# Generate some normal ditributed data at random with a single variabel (univariate)\n",
    "# Set the mu and sigma values upfront\n",
    "\n",
    "np.random.seed(12)\n",
    "mu1=0\n",
    "sigma1 =2.5\n",
    "data = np.random.normal(mu1,sigma1,100) # Create randomly 100 data points which are gaussian in nature\n",
    "\n",
    "# Let us take a look at the data\n",
    "print(data[:10])\n",
    "\n",
    "# Compute mu and sigma - can be a little different due to the random generation of data\n",
    "\n",
    "mu = np.mean(data)\n",
    "sigma = np.std(data)\n",
    "print(f\"mu and sigma:{mu,sigma}\")"
   ]
  },
  {
   "cell_type": "code",
   "execution_count": 3,
   "id": "1a834f3a-1f20-43c9-9250-525733495d10",
   "metadata": {},
   "outputs": [
    {
     "data": {
      "image/png": "[encoded data removed]",
      "text/plain": [
       "<Figure size 432x288 with 1 Axes>"
      ]
     },
     "metadata": {
      "needs_background": "light"
     },
     "output_type": "display_data"
    }
   ],
   "source": [
    "# Simple Histogram to check if data looks somewhat gaussian\n",
    "\n",
    "plt.hist(data,30)\n",
    "plt.show()"
   ]
  },
  {
   "cell_type": "code",
   "execution_count": 4,
   "id": "d7795b90-9040-4cb5-954c-fe0ddfd504bb",
   "metadata": {},
   "outputs": [
    {
     "data": {
      "image/png": "[encoded data removed]",
      "text/plain": [
       "<Figure size 432x288 with 1 Axes>"
      ]
     },
     "metadata": {
      "needs_background": "light"
     },
     "output_type": "display_data"
    }
   ],
   "source": [
    "# Let's plot the histogram and overlay the gaussian\n",
    "\n",
    "count, bins, ignored = plt.hist(data, 30, density=True)\n",
    "\n",
    "plt.plot(bins, 1/(sigma * np.sqrt(2 * np.pi)) * np.exp( - (bins - mu)**2 / (2 * sigma**2) ),linewidth=2, color='r')\n",
    "plt.show()"
   ]
  },
  {
   "cell_type": "code",
   "execution_count": 5,
   "id": "046e9d6e-8971-4c90-a8aa-9072f4fa495b",
   "metadata": {},
   "outputs": [
    {
     "name": "stdout",
     "output_type": "stream",
     "text": [
      "Probability density Values:\n",
      "\n",
      "[0.12818147 0.13371995 0.14248547 0.0504232  0.10558303 0.06305707\n",
      " 0.15101726 0.15252599 0.12482336 0.00238681 0.13887845 0.12821971\n",
      " 0.07553279 0.09033274 0.05556087 0.15253218 0.08276292 0.11638847\n",
      " 0.10664014 0.0659954  0.12606108 0.14707709 0.11511314 0.12414275\n",
      " 0.09571086 0.02156563 0.05179471 0.04437518 0.02135426 0.1358987\n",
      " 0.14261857 0.15179816 0.14382597 0.14860081 0.15173117 0.14930148\n",
      " 0.10941405 0.13154446 0.1503307  0.1339479  0.14033684 0.15246339\n",
      " 0.05605462 0.13832939 0.14998348 0.13959307 0.1525062  0.01130719\n",
      " 0.00247384 0.12354601 0.14298102 0.09554589 0.09625397 0.01482095\n",
      " 0.0837768  0.15196591 0.14625276 0.13137936 0.14994245 0.15256635\n",
      " 0.08882837 0.13597186 0.15230838 0.11202304 0.12192648 0.14345675\n",
      " 0.06351748 0.08130427 0.09465906 0.10835743 0.15246018 0.1253017\n",
      " 0.05073887 0.05136333 0.04628209 0.03581197 0.1457143  0.1523396\n",
      " 0.14034037 0.13856164 0.07942839 0.05122166 0.15235548 0.1417\n",
      " 0.02574556 0.10908987 0.026961   0.14677977 0.1455035  0.13606043\n",
      " 0.14814822 0.08644345 0.13322817 0.10126919 0.14092697 0.11179094\n",
      " 0.09516086 0.07030013 0.14221047 0.1446146 ]\n"
     ]
    }
   ],
   "source": [
    "# Computing Probability density factor values\n",
    "\n",
    "X = data.copy() # Just creating a new variable for data\n",
    "\n",
    "# Using the formula of the Univariate gaussian to compute pdf \n",
    "px = 1/(sigma * np.sqrt(2 * np.pi)) * np.exp( - (X - mu)**2 / (2 * sigma**2))\n",
    "print(f\"Probability density Values:\\n\\n{px}\")"
   ]
  },
  {
   "cell_type": "code",
   "execution_count": 6,
   "id": "a0ec42ad-dd1f-4963-8e8d-0da45ca947fd",
   "metadata": {},
   "outputs": [
    {
     "name": "stdout",
     "output_type": "stream",
     "text": [
      "0.0023868134069533454,is an anomaly\n",
      "0.021565632293582795,is an anomaly\n",
      "0.044375181211317616,is an anomaly\n",
      "0.021354263856369494,is an anomaly\n",
      "0.011307187016913075,is an anomaly\n",
      "0.0024738390341989018,is an anomaly\n",
      "0.014820948319028698,is an anomaly\n",
      "0.04628209062073078,is an anomaly\n",
      "0.03581197174584005,is an anomaly\n",
      "0.02574556451280364,is an anomaly\n",
      "0.026961002116887255,is an anomaly\n",
      "\n",
      "Anomaly data points(array([ 9, 25, 27, 28, 47, 48, 53, 74, 75, 84, 86]),)\n"
     ]
    }
   ],
   "source": [
    "# Setting eps threshold at some value - selected generally based on the pdf values\n",
    "eps = 0.05\n",
    "\n",
    "# Checking for anomalies based on thet eps threshold\n",
    "for i in px:\n",
    "    if i<eps:\n",
    "        print(f\"{i},is an anomaly\")\n",
    "        \n",
    "# Identifying the actual data points associated for pdf values which are flagged as anomalies\n",
    "print(f\"\\nAnomaly data points{np.where(px<eps)}\")\n",
    "    "
   ]
  },
  {
   "cell_type": "code",
   "execution_count": 7,
   "id": "5ac5f8db-c11a-4569-9515-aaeff914e9d7",
   "metadata": {},
   "outputs": [
    {
     "name": "stdout",
     "output_type": "stream",
     "text": [
      "          x1\n",
      "0   1.182465\n",
      "1  -1.703565\n",
      "2   0.606099\n",
      "3  -4.251839\n",
      "4   1.882857\n",
      "..       ...\n",
      "95 -2.422941\n",
      "96  2.179920\n",
      "97 -3.615899\n",
      "98 -1.341203\n",
      "99  0.494801\n",
      "\n",
      "[100 rows x 1 columns]\n"
     ]
    }
   ],
   "source": [
    "# But, we want to work with pandas as the form in which we read in datasets\n",
    "\n",
    "df = pd.DataFrame(data,columns=['x1'])\n",
    "print(df)"
   ]
  },
  {
   "cell_type": "code",
   "execution_count": 8,
   "id": "e6ca0563-ca34-4d5a-b27f-9ec8729af32c",
   "metadata": {},
   "outputs": [
    {
     "name": "stdout",
     "output_type": "stream",
     "text": [
      "Probability density values computed per row:\n",
      "         x1        px\n",
      "0  1.182465  0.128181\n",
      "1 -1.703565  0.133720\n",
      "2  0.606099  0.142485\n",
      "3 -4.251839  0.050423\n",
      "4  1.882857  0.105583\n",
      "\n",
      "Anomalies:\n",
      "          x1        px\n",
      "9   7.179548  0.002387\n",
      "25 -5.533334  0.021566\n",
      "27 -4.470236  0.044375\n",
      "28 -5.546337  0.021354\n",
      "47  5.604544  0.011307\n",
      "48 -7.868541  0.002474\n",
      "53  5.285861  0.014821\n",
      "74  3.678085  0.046282\n",
      "75  4.091157  0.035812\n",
      "84  4.572052  0.025746\n",
      "86 -5.229228  0.026961\n"
     ]
    }
   ],
   "source": [
    "# Calculate and create an additional column for probability densities\n",
    "\n",
    "df['px'] = 1/(sigma * np.sqrt(2 * np.pi)) * np.exp( - (df['x1'] - mu)**2 / (2 * sigma**2))\n",
    "print(f\"Probability density values computed per row:\\n{df.head()}\")\n",
    "\n",
    "# Move the anomalies to a new dataframe\n",
    "df_anomalies = df[df['px']< eps]\n",
    "\n",
    "print(f\"\\nAnomalies:\\n{df_anomalies}\")"
   ]
  },
  {
   "cell_type": "markdown",
   "id": "50397769-0711-483a-8cfa-7fbbba472d1b",
   "metadata": {},
   "source": [
    "#### <u>Let us look at the same computations with Multivariate datasets</u> ####\n",
    "\n"
   ]
  },
  {
   "cell_type": "markdown",
   "id": "770e11ba-a756-4ce5-8f27-7b74b30aeabb",
   "metadata": {},
   "source": [
    "#### <u>Case 1: Where the 2 features are independent</u> ####\n",
    "In this case we can calculate the individual pdf's and then multiply them to get total pdf."
   ]
  },
  {
   "cell_type": "code",
   "execution_count": 9,
   "id": "db131593-236d-4795-af16-e4e6e94cb956",
   "metadata": {},
   "outputs": [
    {
     "name": "stdout",
     "output_type": "stream",
     "text": [
      "Data and Shape \n",
      " (100, 2) \n",
      " [[ 1.47298583  1.31857412]\n",
      " [ 1.2424395   0.29926437]\n",
      " [ 1.75314283  0.46527866]\n",
      " [ 1.00512708  1.87977233]\n",
      " [ 0.19301812  4.87181939]\n",
      " [ 0.40217708  2.47245699]\n",
      " [ 2.09595612  0.7848312 ]\n",
      " [ 2.34235637  1.87785021]\n",
      " [ 2.01251548  1.08613085]\n",
      " [-0.02953021  3.20979645]] \n",
      " \n",
      " Covariance: \n",
      " [[ 1.13081248 -0.05770083]\n",
      " [-0.05770083  1.0392883 ]]\n"
     ]
    }
   ],
   "source": [
    "# Generating some bi-variate data with predefined mean and covariance and covariance\n",
    "\n",
    "np.random.seed(12)\n",
    "\n",
    "mean = (1,2)\n",
    "cov = [[1, 0], [0, 1]]\n",
    "\n",
    "x_bv = np.random.multivariate_normal(mean, cov, size=(100))\n",
    "print(\"Data and Shape\",'\\n',x_bv.shape,'\\n',x_bv[:10],'\\n','\\n',\"Covariance:\",'\\n',np.cov(x_bv.T))"
   ]
  },
  {
   "cell_type": "code",
   "execution_count": 10,
   "id": "d0933f2f-cf32-4567-acc8-b29396236232",
   "metadata": {},
   "outputs": [
    {
     "data": {
      "text/html": [
       "<div>\n",
       "<style scoped>\n",
       "    .dataframe tbody tr th:only-of-type {\n",
       "        vertical-align: middle;\n",
       "    }\n",
       "\n",
       "    .dataframe tbody tr th {\n",
       "        vertical-align: top;\n",
       "    }\n",
       "\n",
       "    .dataframe thead th {\n",
       "        text-align: right;\n",
       "    }\n",
       "</style>\n",
       "<table border=\"1\" class=\"dataframe\">\n",
       "  <thead>\n",
       "    <tr style=\"text-align: right;\">\n",
       "      <th></th>\n",
       "      <th>x1</th>\n",
       "      <th>x2</th>\n",
       "    </tr>\n",
       "  </thead>\n",
       "  <tbody>\n",
       "    <tr>\n",
       "      <th>0</th>\n",
       "      <td>1.472986</td>\n",
       "      <td>1.318574</td>\n",
       "    </tr>\n",
       "    <tr>\n",
       "      <th>1</th>\n",
       "      <td>1.242439</td>\n",
       "      <td>0.299264</td>\n",
       "    </tr>\n",
       "    <tr>\n",
       "      <th>2</th>\n",
       "      <td>1.753143</td>\n",
       "      <td>0.465279</td>\n",
       "    </tr>\n",
       "    <tr>\n",
       "      <th>3</th>\n",
       "      <td>1.005127</td>\n",
       "      <td>1.879772</td>\n",
       "    </tr>\n",
       "    <tr>\n",
       "      <th>4</th>\n",
       "      <td>0.193018</td>\n",
       "      <td>4.871819</td>\n",
       "    </tr>\n",
       "  </tbody>\n",
       "</table>\n",
       "</div>"
      ],
      "text/plain": [
       "         x1        x2\n",
       "0  1.472986  1.318574\n",
       "1  1.242439  0.299264\n",
       "2  1.753143  0.465279\n",
       "3  1.005127  1.879772\n",
       "4  0.193018  4.871819"
      ]
     },
     "execution_count": 10,
     "metadata": {},
     "output_type": "execute_result"
    }
   ],
   "source": [
    "# Create a pandas dataframe - The datasets you get will be in .csv format\n",
    "\n",
    "df_bv =  pd.DataFrame(x_bv,columns=['x1','x2'])\n",
    "df_bv.head()"
   ]
  },
  {
   "cell_type": "code",
   "execution_count": 11,
   "id": "6e631ff7-8718-47a9-aab5-2a061dd48b62",
   "metadata": {},
   "outputs": [
    {
     "data": {
      "image/png": "[encoded data removed]",
      "text/plain": [
       "<Figure size 432x288 with 1 Axes>"
      ]
     },
     "metadata": {
      "needs_background": "light"
     },
     "output_type": "display_data"
    }
   ],
   "source": [
    "# Plot and visualize\n",
    "# Notice how the plot has no orientation of any sort\n",
    "\n",
    "plt.scatter(df_bv.x1,df_bv.x2)\n",
    "plt.show()"
   ]
  },
  {
   "cell_type": "code",
   "execution_count": 12,
   "id": "3b0b389d-ce1c-4a55-bfb3-94729525d5ca",
   "metadata": {},
   "outputs": [],
   "source": [
    "# Let us write a function to calulcate indiviudal feature pdf's and return a total pdf\n",
    "\n",
    "def pdf(x,mean,std):\n",
    "    pd = 1/(std * np.sqrt(2 * np.pi)) * np.exp( - (x - mean)**2 / (2 * std**2))\n",
    "    pdtot = pd['x1']*pd['x2']\n",
    "    return pdtot"
   ]
  },
  {
   "cell_type": "code",
   "execution_count": 13,
   "id": "2c01c527-4e48-4957-86d0-7febab70990b",
   "metadata": {},
   "outputs": [
    {
     "name": "stdout",
     "output_type": "stream",
     "text": [
      "Feature wise - Mean:\n",
      "x1    0.790774\n",
      "x2    1.848675\n",
      "dtype: float64\n",
      "\n",
      "Feature wise - Standard Deviation:\n",
      "x1    1.063397\n",
      "x2    1.019455\n",
      "dtype: float64\n"
     ]
    }
   ],
   "source": [
    "# Let us calculate the parameters required to calculate the probaility density factors\n",
    "\n",
    "bv_mean = df_bv.mean()\n",
    "bv_std = df_bv.std()\n",
    "\n",
    "print(f\"Feature wise - Mean:\\n{bv_mean}\\n\\nFeature wise - Standard Deviation:\\n{bv_std}\")"
   ]
  },
  {
   "cell_type": "code",
   "execution_count": 14,
   "id": "eabd2136-2076-4738-b37e-2f9f2e9607b4",
   "metadata": {},
   "outputs": [
    {
     "name": "stdout",
     "output_type": "stream",
     "text": [
      " Dataframe with total pdf column:\n",
      "         x1        x2   tot_pdf\n",
      "0  1.472986  1.318574  0.104393\n",
      "1  1.242439  0.299264  0.042266\n",
      "2  1.753143  0.465279  0.038819\n",
      "3  1.005127  1.879772  0.143791\n",
      "4  0.193018  4.871819  0.001544\n",
      "\n",
      "Max Value of total pdf:\n",
      "0.1437909737672331\n",
      "\n",
      "Min Value of total pdf:\n",
      "0.0012309287361813174\n"
     ]
    }
   ],
   "source": [
    "# Total pdf's using the function written above \n",
    "px_bv_tot = pdf(df_bv,bv_mean,bv_std)\n",
    "\n",
    "# Total pdf's\n",
    "df_bv['tot_pdf'] = px_bv_tot\n",
    "print(f\" Dataframe with total pdf column:\\n{df_bv.head()}\\n\\nMax Value of total pdf:\\n{df_bv['tot_pdf'].max()}\\n\\nMin Value of total pdf:\\n{df_bv['tot_pdf'].min()}\")"
   ]
  },
  {
   "cell_type": "code",
   "execution_count": 15,
   "id": "20612668-8a30-47d0-bcba-92e69c5f970f",
   "metadata": {},
   "outputs": [
    {
     "name": "stdout",
     "output_type": "stream",
     "text": [
      "The anomalous points\n",
      "          x1        x2   tot_pdf\n",
      "4   0.193018  4.871819  0.001544\n",
      "12 -0.154360 -0.213333  0.012789\n",
      "13 -0.681757  0.211906  0.015510\n",
      "23  0.885080  4.241818  0.009299\n",
      "24 -2.147417  2.535136  0.002574\n",
      "26 -0.148213  4.114344  0.008412\n",
      "36  2.407728  0.312304  0.014843\n",
      "37  2.471234  3.636463  0.009051\n",
      "42  2.828821  0.998998  0.016531\n",
      "54  4.041686  1.373919  0.001231\n",
      "56  2.365853  3.232045  0.019521\n",
      "60  2.522842  3.461882  0.011141\n",
      "68  2.933216  0.937905  0.012943\n",
      "71 -1.619493  2.739046  0.007683\n",
      "80  1.314507 -0.488004  0.009403\n",
      "81  1.595909 -0.035862  0.019963\n"
     ]
    }
   ],
   "source": [
    "# Let us assume the model is built and we know the value of eps\n",
    "# Then let us detect the anomalies on this basis\n",
    "\n",
    "eps_bv = 0.02\n",
    "df_bv_anomalies = df_bv[df_bv['tot_pdf']< eps_bv]\n",
    "print(f\"The anomalous points\\n{df_bv_anomalies}\")"
   ]
  },
  {
   "cell_type": "code",
   "execution_count": null,
   "id": "7c68c698-1db1-4586-818b-f76f135c5070",
   "metadata": {},
   "outputs": [],
   "source": [
    "# If you want to know  their indices - that is, which row numbers are the anomalous points in\n",
    "\n",
    "bv_index_values = np.where(df_bv['tot_pdf']<eps_bv) # Finding out which row numbers are invloved\n",
    "bv_ano = df_bv.loc[bv_index_values]                 # Retrieving those values\n",
    "print(f\"Values of x1 and px associated with the anomalies:\\n{bv_ano}\")"
   ]
  },
  {
   "cell_type": "code",
   "execution_count": 16,
   "id": "d7bf6f07-8d3c-4083-bad9-2ccdad727d75",
   "metadata": {},
   "outputs": [
    {
     "name": "stdout",
     "output_type": "stream",
     "text": [
      "(16, 16) (16, 16) <class 'numpy.ndarray'>\n"
     ]
    },
    {
     "data": {
      "image/png": "[encoded data removed]",
      "text/plain": [
       "<Figure size 432x288 with 1 Axes>"
      ]
     },
     "metadata": {
      "needs_background": "light"
     },
     "output_type": "display_data"
    }
   ],
   "source": [
    "# Visualizing using Contour plots\n",
    "\n",
    "# Create a meshgrid - this is a function in numpy\n",
    "\n",
    "x = np.arange(-3,5,0.5)\n",
    "y = np.arange(-3,5,0.5)\n",
    "Xl, Yl = np.meshgrid(x, y)\n",
    "\n",
    "plt.scatter(Xl,Yl)\n",
    "\n",
    "print(Xl.shape,Yl.shape,type(Xl))"
   ]
  },
  {
   "cell_type": "markdown",
   "id": "65a31d0c-057f-44fc-84b5-57282d99fcbc",
   "metadata": {},
   "source": [
    "#### Preparing the data for the Contour plots ####\n",
    "\n",
    "1. We have to compute the pdf(Z) values for every data point in the meshgrid.\n",
    "\n",
    "2. We can do the above by putting all the data points Xl and Yl in 2 columns and then computing pdf like we did before.\n",
    "\n",
    "3. We then have to reshape Z to the same shape as the meshgrid."
   ]
  },
  {
   "cell_type": "code",
   "execution_count": 17,
   "id": "932d4517-90c9-4ac6-9acd-64a6a0d2c72e",
   "metadata": {},
   "outputs": [
    {
     "name": "stdout",
     "output_type": "stream",
     "text": [
      "(256,)\n",
      "(16, 16)\n"
     ]
    }
   ],
   "source": [
    "# Flatten makes the array a single dimension entity \n",
    "\n",
    "print(Xl.flatten().shape)\n",
    "\n",
    "# Flatten and convert the Xl and Yl points to a numpy arrary with 2 columns\n",
    "# np.dstack Stacks arrays in sequence depth wise\n",
    "\n",
    "array = np.dstack((Xl.flatten(),Yl.flatten())).reshape(-1,2)\n",
    "\n",
    "# Put this into a pandas dataframe\n",
    "array = pd.DataFrame(array,columns=['x1','x2'])\n",
    "\n",
    "# Compute total pdf and reshape Z\n",
    "Z = pdf(array,bv_mean,bv_std)\n",
    "Z = np.array(Z).reshape(Xl.shape)\n",
    "\n",
    "print(Z.shape)\n"
   ]
  },
  {
   "cell_type": "code",
   "execution_count": 18,
   "id": "612215c0-0aaf-4226-af72-68718b203994",
   "metadata": {},
   "outputs": [
    {
     "data": {
      "image/png": "[encoded data removed]",
      "text/plain": [
       "<Figure size 576x576 with 1 Axes>"
      ]
     },
     "metadata": {
      "needs_background": "light"
     },
     "output_type": "display_data"
    }
   ],
   "source": [
    "# The contour plot - plot the data points first and then\n",
    "# Then plot the contour based on Xl,Yl,Z\n",
    "\n",
    "plt.figure(figsize=(8,8))\n",
    "plt.title(f\"eps=%f\" % eps_bv)\n",
    "plt.scatter(df_bv['x1'],df_bv['x2'])\n",
    "plt.scatter(df_bv_anomalies.x1,df_bv_anomalies.x2,c='r')\n",
    "levels = [0,0.0002,0.002,0.006,0.02]\n",
    "CS = plt.contour(Xl,Yl,Z,levels,linestyles='dashed',colors='black')\n",
    "plt.clabel(CS, inline=True, fontsize=12)\n",
    "plt.xlim(-4,5)\n",
    "plt.ylim(-2,6)\n",
    "plt.xlabel(\"x1\")\n",
    "plt.ylabel(\"x2\")\n",
    "plt.show()"
   ]
  },
  {
   "cell_type": "markdown",
   "id": "4b09ae9b-f1db-481d-87bb-532caa6f1dbb",
   "metadata": {},
   "source": [
    "### Case for multi-variate data with orientation ###\n",
    "\n",
    "Formula for multi-variate  $ p(x:\\mu,\\Sigma) = \\frac{1}{(2\\pi)^{n/2}|\\Sigma|^{1/2}}e^-(-\\frac{1}{2}(X-\\mu)^T\\Sigma^-1(X-\\mu)) $"
   ]
  },
  {
   "cell_type": "code",
   "execution_count": 19,
   "id": "425851a6-b48d-4348-a70d-a65e017c5f30",
   "metadata": {},
   "outputs": [],
   "source": [
    "# Read in the dataset\n",
    "\n",
    "df_mv = pd.read_csv('mv_with_cov')"
   ]
  },
  {
   "cell_type": "code",
   "execution_count": 20,
   "id": "f6945180-d33a-4ed9-8df0-b47dcc59bbc4",
   "metadata": {},
   "outputs": [
    {
     "data": {
      "image/png": "[encoded data removed]",
      "text/plain": [
       "<Figure size 432x288 with 1 Axes>"
      ]
     },
     "metadata": {
      "needs_background": "light"
     },
     "output_type": "display_data"
    }
   ],
   "source": [
    "# Plot it\n",
    "\n",
    "plt.scatter(df_mv.x1,df_mv.x2)\n",
    "plt.show()"
   ]
  },
  {
   "cell_type": "code",
   "execution_count": 21,
   "id": "911bca15-86cd-4faf-9554-99d8d03e5ff3",
   "metadata": {},
   "outputs": [
    {
     "name": "stdout",
     "output_type": "stream",
     "text": [
      "x1    1.246342\n",
      "x2    2.150636\n",
      "dtype: float64 \n",
      "           x1        x2\n",
      "x1  1.087040  0.913802\n",
      "x2  0.913802  1.156281\n"
     ]
    }
   ],
   "source": [
    "# Compute mean and cov\n",
    "\n",
    "mv_mean = df_mv.mean()\n",
    "mv_cov = df_mv.cov()\n",
    "\n",
    "print(mv_mean,'\\n',mv_cov)"
   ]
  },
  {
   "cell_type": "code",
   "execution_count": 22,
   "id": "8c468e2e-4da9-40dd-8721-11839f132129",
   "metadata": {},
   "outputs": [
    {
     "name": "stdout",
     "output_type": "stream",
     "text": [
      "         x1        x2        px\n",
      "0  0.766772  1.335800  0.177194\n",
      "1  1.307822  1.232182  0.072758\n",
      "2  0.770827  0.800184  0.068919\n",
      "3  1.033155  1.957117  0.239899\n",
      "4  0.857421  3.673719  0.002780\n"
     ]
    }
   ],
   "source": [
    "# Let us calculate the bivariate probaility densites for this case where there is a covariance using the multivariate formula\n",
    "# The python library scipy has an easy way\n",
    "\n",
    "from scipy.stats import multivariate_normal\n",
    "\n",
    "mv_px = multivariate_normal.pdf(df_mv, mv_mean,mv_cov) # Function for calculating pdf's using the multivariate equation\n",
    "\n",
    "# Add it to df_mv\n",
    "df_mv['px'] = mv_px\n",
    "\n",
    "print(df_mv.head())"
   ]
  },
  {
   "cell_type": "markdown",
   "id": "39cbab30-41e3-4425-90f0-87b58a1d7f0a",
   "metadata": {},
   "source": [
    "#### You continue with the rest of the process the same way and finally the contour plot will look like: ####\n",
    "\n",
    "<img src=\"contour.png\">\n"
   ]
  },
  {
   "cell_type": "code",
   "execution_count": null,
   "id": "cd879282-61b5-45d2-97b5-6964425e6170",
   "metadata": {},
   "outputs": [],
   "source": []
  }
 ],
 "metadata": {
  "kernelspec": {
   "display_name": "Python 3",
   "language": "python",
   "name": "python3"
  },
  "language_info": {
   "codemirror_mode": {
    "name": "ipython",
    "version": 3
   },
   "file_extension": ".py",
   "mimetype": "text/x-python",
   "name": "python",
   "nbconvert_exporter": "python",
   "pygments_lexer": "ipython3",
   "version": "3.8.8"
  }
 },
 "nbformat": 4,
 "nbformat_minor": 5
}
